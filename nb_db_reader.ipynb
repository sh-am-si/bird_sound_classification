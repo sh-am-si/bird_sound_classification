{
 "cells": [
  {
   "cell_type": "code",
   "execution_count": 1,
   "metadata": {},
   "outputs": [],
   "source": [
    "%load_ext autoreload\n",
    "%autoreload 2"
   ]
  },
  {
   "cell_type": "code",
   "execution_count": 1,
   "metadata": {},
   "outputs": [],
   "source": [
    "import src.db_reader"
   ]
  },
  {
   "cell_type": "code",
   "execution_count": 2,
   "metadata": {},
   "outputs": [],
   "source": [
    "reader = src.db_reader.Reader()"
   ]
  },
  {
   "cell_type": "code",
   "execution_count": 3,
   "metadata": {},
   "outputs": [],
   "source": [
    "df = reader.to_df()"
   ]
  },
  {
   "cell_type": "code",
   "execution_count": 4,
   "metadata": {},
   "outputs": [
    {
     "data": {
      "text/html": [
       "<div>\n",
       "<style scoped>\n",
       "    .dataframe tbody tr th:only-of-type {\n",
       "        vertical-align: middle;\n",
       "    }\n",
       "\n",
       "    .dataframe tbody tr th {\n",
       "        vertical-align: top;\n",
       "    }\n",
       "\n",
       "    .dataframe thead th {\n",
       "        text-align: right;\n",
       "    }\n",
       "</style>\n",
       "<table border=\"1\" class=\"dataframe\">\n",
       "  <thead>\n",
       "    <tr style=\"text-align: right;\">\n",
       "      <th></th>\n",
       "      <th>_id</th>\n",
       "      <th>name</th>\n",
       "      <th>sci_name</th>\n",
       "      <th>id</th>\n",
       "      <th>filepath</th>\n",
       "      <th>data-id</th>\n",
       "      <th>page</th>\n",
       "      <th>row</th>\n",
       "      <th>audio</th>\n",
       "      <th>length</th>\n",
       "      <th>...</th>\n",
       "      <th>date</th>\n",
       "      <th>time</th>\n",
       "      <th>country</th>\n",
       "      <th>location</th>\n",
       "      <th>elev</th>\n",
       "      <th>type</th>\n",
       "      <th>note</th>\n",
       "      <th>bird_seen</th>\n",
       "      <th>playback_used</th>\n",
       "      <th>class</th>\n",
       "    </tr>\n",
       "  </thead>\n",
       "  <tbody>\n",
       "    <tr>\n",
       "      <th>652517</th>\n",
       "      <td>62113891aa10714cbcf565de</td>\n",
       "      <td>Eastern Miombo Sunbird</td>\n",
       "      <td>Cinnyris-manoensis</td>\n",
       "      <td>xc_audio_339069_208</td>\n",
       "      <td>//xeno-canto.org/sounds/uploaded/OOECIWCSWV/XC...</td>\n",
       "      <td>339069</td>\n",
       "      <td>22668</td>\n",
       "      <td>50</td>\n",
       "      <td>None</td>\n",
       "      <td>0:33</td>\n",
       "      <td>...</td>\n",
       "      <td>2016-09-12</td>\n",
       "      <td>07:30</td>\n",
       "      <td>Zambia</td>\n",
       "      <td>Mutinondo Wilderness area, Northern Province</td>\n",
       "      <td></td>\n",
       "      <td>call</td>\n",
       "      <td>Two taxa occur here, with different habitat pr...</td>\n",
       "      <td>NaN</td>\n",
       "      <td>NaN</td>\n",
       "      <td>B</td>\n",
       "    </tr>\n",
       "    <tr>\n",
       "      <th>652518</th>\n",
       "      <td>62113891aa10714cbcf565df</td>\n",
       "      <td>Violet-backed Starling</td>\n",
       "      <td>Cinnyricinclus-leucogaster</td>\n",
       "      <td>xc_audio_339059_209</td>\n",
       "      <td>//xeno-canto.org/sounds/uploaded/OOECIWCSWV/XC...</td>\n",
       "      <td>339059</td>\n",
       "      <td>22668</td>\n",
       "      <td>52</td>\n",
       "      <td>None</td>\n",
       "      <td>0:25</td>\n",
       "      <td>...</td>\n",
       "      <td>2016-09-24</td>\n",
       "      <td>09:00</td>\n",
       "      <td>Zambia</td>\n",
       "      <td>Jellis' Farm (Lazy J Ranch), Lusaka</td>\n",
       "      <td></td>\n",
       "      <td>song</td>\n",
       "      <td>[sono]</td>\n",
       "      <td>NaN</td>\n",
       "      <td>NaN</td>\n",
       "      <td>B</td>\n",
       "    </tr>\n",
       "    <tr>\n",
       "      <th>652519</th>\n",
       "      <td>62113891aa10714cbcf565e0</td>\n",
       "      <td>Violet-backed Starling</td>\n",
       "      <td>Cinnyricinclus-leucogaster</td>\n",
       "      <td>xc_audio_339057_210</td>\n",
       "      <td>//xeno-canto.org/sounds/uploaded/OOECIWCSWV/XC...</td>\n",
       "      <td>339057</td>\n",
       "      <td>22668</td>\n",
       "      <td>54</td>\n",
       "      <td>None</td>\n",
       "      <td>0:29</td>\n",
       "      <td>...</td>\n",
       "      <td>2016-09-23</td>\n",
       "      <td>07:00</td>\n",
       "      <td>Zambia</td>\n",
       "      <td>Kasanka National Park, Northern Province</td>\n",
       "      <td></td>\n",
       "      <td>song</td>\n",
       "      <td>Male bird.</td>\n",
       "      <td>NaN</td>\n",
       "      <td>NaN</td>\n",
       "      <td>B</td>\n",
       "    </tr>\n",
       "    <tr>\n",
       "      <th>652520</th>\n",
       "      <td>62113891aa10714cbcf565e1</td>\n",
       "      <td>Violet-backed Starling</td>\n",
       "      <td>Cinnyricinclus-leucogaster</td>\n",
       "      <td>xc_audio_339056_211</td>\n",
       "      <td>//xeno-canto.org/sounds/uploaded/OOECIWCSWV/XC...</td>\n",
       "      <td>339056</td>\n",
       "      <td>22668</td>\n",
       "      <td>56</td>\n",
       "      <td>None</td>\n",
       "      <td>0:42</td>\n",
       "      <td>...</td>\n",
       "      <td>2016-09-23</td>\n",
       "      <td>07:00</td>\n",
       "      <td>Zambia</td>\n",
       "      <td>Kasanka National Park, Northern Province</td>\n",
       "      <td></td>\n",
       "      <td>song</td>\n",
       "      <td>Male bird.</td>\n",
       "      <td>NaN</td>\n",
       "      <td>NaN</td>\n",
       "      <td>B</td>\n",
       "    </tr>\n",
       "    <tr>\n",
       "      <th>652521</th>\n",
       "      <td>62113891aa10714cbcf565e2</td>\n",
       "      <td>Orange-breasted Bushshrike</td>\n",
       "      <td>Chlorophoneus-sulfureopectus</td>\n",
       "      <td>xc_audio_339052_212</td>\n",
       "      <td>//xeno-canto.org/sounds/uploaded/OOECIWCSWV/XC...</td>\n",
       "      <td>339052</td>\n",
       "      <td>22668</td>\n",
       "      <td>58</td>\n",
       "      <td>None</td>\n",
       "      <td>0:16</td>\n",
       "      <td>...</td>\n",
       "      <td>2016-09-20</td>\n",
       "      <td>06:30</td>\n",
       "      <td>Zambia</td>\n",
       "      <td>Chiengi-Kaputa road, Luapula province</td>\n",
       "      <td></td>\n",
       "      <td>song</td>\n",
       "      <td>[sono]</td>\n",
       "      <td>NaN</td>\n",
       "      <td>NaN</td>\n",
       "      <td>B</td>\n",
       "    </tr>\n",
       "  </tbody>\n",
       "</table>\n",
       "<p>5 rows × 21 columns</p>\n",
       "</div>"
      ],
      "text/plain": [
       "                             _id                        name  \\\n",
       "652517  62113891aa10714cbcf565de      Eastern Miombo Sunbird   \n",
       "652518  62113891aa10714cbcf565df      Violet-backed Starling   \n",
       "652519  62113891aa10714cbcf565e0      Violet-backed Starling   \n",
       "652520  62113891aa10714cbcf565e1      Violet-backed Starling   \n",
       "652521  62113891aa10714cbcf565e2  Orange-breasted Bushshrike   \n",
       "\n",
       "                            sci_name                   id  \\\n",
       "652517            Cinnyris-manoensis  xc_audio_339069_208   \n",
       "652518    Cinnyricinclus-leucogaster  xc_audio_339059_209   \n",
       "652519    Cinnyricinclus-leucogaster  xc_audio_339057_210   \n",
       "652520    Cinnyricinclus-leucogaster  xc_audio_339056_211   \n",
       "652521  Chlorophoneus-sulfureopectus  xc_audio_339052_212   \n",
       "\n",
       "                                                 filepath data-id   page  row  \\\n",
       "652517  //xeno-canto.org/sounds/uploaded/OOECIWCSWV/XC...  339069  22668   50   \n",
       "652518  //xeno-canto.org/sounds/uploaded/OOECIWCSWV/XC...  339059  22668   52   \n",
       "652519  //xeno-canto.org/sounds/uploaded/OOECIWCSWV/XC...  339057  22668   54   \n",
       "652520  //xeno-canto.org/sounds/uploaded/OOECIWCSWV/XC...  339056  22668   56   \n",
       "652521  //xeno-canto.org/sounds/uploaded/OOECIWCSWV/XC...  339052  22668   58   \n",
       "\n",
       "       audio length  ...        date    time country  \\\n",
       "652517  None   0:33  ...  2016-09-12   07:30  Zambia   \n",
       "652518  None   0:25  ...  2016-09-24   09:00  Zambia   \n",
       "652519  None   0:29  ...  2016-09-23   07:00  Zambia   \n",
       "652520  None   0:42  ...  2016-09-23   07:00  Zambia   \n",
       "652521  None   0:16  ...  2016-09-20   06:30  Zambia   \n",
       "\n",
       "                                            location elev   type  \\\n",
       "652517  Mutinondo Wilderness area, Northern Province       call    \n",
       "652518           Jellis' Farm (Lazy J Ranch), Lusaka       song    \n",
       "652519      Kasanka National Park, Northern Province       song    \n",
       "652520      Kasanka National Park, Northern Province       song    \n",
       "652521         Chiengi-Kaputa road, Luapula province       song    \n",
       "\n",
       "                                                     note bird_seen  \\\n",
       "652517  Two taxa occur here, with different habitat pr...       NaN   \n",
       "652518                                             [sono]       NaN   \n",
       "652519                                         Male bird.       NaN   \n",
       "652520                                         Male bird.       NaN   \n",
       "652521                                             [sono]       NaN   \n",
       "\n",
       "       playback_used class  \n",
       "652517           NaN     B  \n",
       "652518           NaN     B  \n",
       "652519           NaN     B  \n",
       "652520           NaN     B  \n",
       "652521           NaN     B  \n",
       "\n",
       "[5 rows x 21 columns]"
      ]
     },
     "execution_count": 4,
     "metadata": {},
     "output_type": "execute_result"
    }
   ],
   "source": [
    "df.tail()"
   ]
  },
  {
   "cell_type": "code",
   "execution_count": 5,
   "metadata": {},
   "outputs": [
    {
     "name": "stdout",
     "output_type": "stream",
     "text": [
      "Parus-major                  6526\n",
      "Turdus-merula                5548\n",
      "Fringilla-coelebs            5155\n",
      "Phylloscopus-collybita       4735\n",
      "Erithacus-rubecula           4447\n",
      "                             ... \n",
      "Opisthocomus-hoazin           101\n",
      "Cichlocolaptes-leucophrus     101\n",
      "Premnoplex-brunnescens        101\n",
      "Asthenes-fuliginosa           101\n",
      "Myiozetetes-granadensis       101\n",
      "Name: sci_name, Length: 1351, dtype: int64 (1351,)\n"
     ]
    }
   ],
   "source": [
    "vc = df['sci_name'].value_counts()\n",
    "print(vc[vc>100], vc[vc>100].shape)"
   ]
  },
  {
   "cell_type": "code",
   "execution_count": 6,
   "metadata": {},
   "outputs": [
    {
     "data": {
      "text/plain": [
       "(652522, 21)"
      ]
     },
     "execution_count": 6,
     "metadata": {},
     "output_type": "execute_result"
    }
   ],
   "source": [
    "df.shape"
   ]
  },
  {
   "cell_type": "code",
   "execution_count": 7,
   "metadata": {},
   "outputs": [
    {
     "name": "stdout",
     "output_type": "stream",
     "text": [
      "xc_audio_339099_126     13\n",
      "xc_audio_339118_118     13\n",
      "xc_audio_339116_120     13\n",
      "xc_audio_339050_146     13\n",
      "xc_audio_339052_145     13\n",
      "                        ..\n",
      "xc_audio_632035_1013     2\n",
      "xc_audio_632027_1014     2\n",
      "xc_audio_632877_1011     2\n",
      "xc_audio_633113_1009     2\n",
      "xc_audio_634634_1007     2\n",
      "Name: id, Length: 330, dtype: int64 (330,)\n"
     ]
    }
   ],
   "source": [
    "vcid = df['id'].value_counts()\n",
    "print(vcid[vcid>1], vcid[vcid>1].shape)"
   ]
  },
  {
   "cell_type": "code",
   "execution_count": 8,
   "metadata": {},
   "outputs": [
    {
     "data": {
      "text/plain": [
       "1032"
      ]
     },
     "execution_count": 8,
     "metadata": {},
     "output_type": "execute_result"
    }
   ],
   "source": [
    "vcid[vcid>1].sum()"
   ]
  },
  {
   "cell_type": "code",
   "execution_count": 9,
   "metadata": {},
   "outputs": [],
   "source": [
    "reader.save_json()"
   ]
  }
 ],
 "metadata": {
  "interpreter": {
   "hash": "04d8603fbf6e3bc350366efc43c9870b96cb8c949f6e9cbd669a921366caf460"
  },
  "kernelspec": {
   "display_name": "Python 3.8.10 ('.venv': venv)",
   "language": "python",
   "name": "python3"
  },
  "language_info": {
   "codemirror_mode": {
    "name": "ipython",
    "version": 3
   },
   "file_extension": ".py",
   "mimetype": "text/x-python",
   "name": "python",
   "nbconvert_exporter": "python",
   "pygments_lexer": "ipython3",
   "version": "3.8.10"
  },
  "orig_nbformat": 4
 },
 "nbformat": 4,
 "nbformat_minor": 2
}
