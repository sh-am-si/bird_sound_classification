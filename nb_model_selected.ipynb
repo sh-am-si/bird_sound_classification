{
 "cells": [
  {
   "cell_type": "code",
   "execution_count": 1,
   "metadata": {},
   "outputs": [],
   "source": [
    "%load_ext autoreload\n",
    "%autoreload 2"
   ]
  },
  {
   "cell_type": "code",
   "execution_count": 11,
   "metadata": {},
   "outputs": [],
   "source": [
    "import numpy as np\n",
    "import pandas as pd\n",
    "\n",
    "import imageio\n",
    "import os\n",
    "\n",
    "import shutil"
   ]
  },
  {
   "cell_type": "code",
   "execution_count": 3,
   "metadata": {},
   "outputs": [],
   "source": [
    "import src.utils"
   ]
  },
  {
   "cell_type": "code",
   "execution_count": 4,
   "metadata": {},
   "outputs": [
    {
     "data": {
      "text/html": [
       "<div>\n",
       "<style scoped>\n",
       "    .dataframe tbody tr th:only-of-type {\n",
       "        vertical-align: middle;\n",
       "    }\n",
       "\n",
       "    .dataframe tbody tr th {\n",
       "        vertical-align: top;\n",
       "    }\n",
       "\n",
       "    .dataframe thead th {\n",
       "        text-align: right;\n",
       "    }\n",
       "</style>\n",
       "<table border=\"1\" class=\"dataframe\">\n",
       "  <thead>\n",
       "    <tr style=\"text-align: right;\">\n",
       "      <th></th>\n",
       "      <th>key</th>\n",
       "      <th>name</th>\n",
       "      <th>sci_name</th>\n",
       "      <th>id</th>\n",
       "      <th>data-xc-filepath</th>\n",
       "      <th>data-xc-id</th>\n",
       "      <th>page</th>\n",
       "      <th>row</th>\n",
       "      <th>length</th>\n",
       "      <th>contributor</th>\n",
       "      <th>...</th>\n",
       "      <th>time</th>\n",
       "      <th>country</th>\n",
       "      <th>location</th>\n",
       "      <th>elev</th>\n",
       "      <th>type</th>\n",
       "      <th>note</th>\n",
       "      <th>bird_seen</th>\n",
       "      <th>playback_used</th>\n",
       "      <th>class</th>\n",
       "      <th>size</th>\n",
       "    </tr>\n",
       "  </thead>\n",
       "  <tbody>\n",
       "    <tr>\n",
       "      <th>0</th>\n",
       "      <td>167</td>\n",
       "      <td>Rufous-bellied Thrush</td>\n",
       "      <td>Turdus-rufiventris</td>\n",
       "      <td>xc_audio_695280_550</td>\n",
       "      <td>//xeno-canto.org/sounds/uploaded/XTVEPHMPPJ/XC...</td>\n",
       "      <td>695280</td>\n",
       "      <td>48</td>\n",
       "      <td>11</td>\n",
       "      <td>4:34</td>\n",
       "      <td>Niels Krabbe</td>\n",
       "      <td>...</td>\n",
       "      <td>06:11</td>\n",
       "      <td>Argentina</td>\n",
       "      <td>Salta: La Misión</td>\n",
       "      <td>1270</td>\n",
       "      <td>song</td>\n",
       "      <td>bird-seen:no</td>\n",
       "      <td>no</td>\n",
       "      <td>no</td>\n",
       "      <td>A</td>\n",
       "      <td>4401294</td>\n",
       "    </tr>\n",
       "    <tr>\n",
       "      <th>1</th>\n",
       "      <td>180</td>\n",
       "      <td>Rufous-bellied Thrush</td>\n",
       "      <td>Turdus-rufiventris</td>\n",
       "      <td>xc_audio_692377_568</td>\n",
       "      <td>//xeno-canto.org/sounds/uploaded/XTVEPHMPPJ/XC...</td>\n",
       "      <td>692377</td>\n",
       "      <td>48</td>\n",
       "      <td>29</td>\n",
       "      <td>1:38</td>\n",
       "      <td>Niels Krabbe</td>\n",
       "      <td>...</td>\n",
       "      <td>06:06</td>\n",
       "      <td>Argentina</td>\n",
       "      <td>Salta: Vaqueros, 12 km N Salta</td>\n",
       "      <td>1270</td>\n",
       "      <td>song</td>\n",
       "      <td>bird-seen:no</td>\n",
       "      <td>no</td>\n",
       "      <td>no</td>\n",
       "      <td>A</td>\n",
       "      <td>1585389</td>\n",
       "    </tr>\n",
       "    <tr>\n",
       "      <th>2</th>\n",
       "      <td>188</td>\n",
       "      <td>Rufous-bellied Thrush</td>\n",
       "      <td>Turdus-rufiventris</td>\n",
       "      <td>xc_audio_690795_80</td>\n",
       "      <td>//xeno-canto.org/sounds/uploaded/XTVEPHMPPJ/XC...</td>\n",
       "      <td>690795</td>\n",
       "      <td>49</td>\n",
       "      <td>7</td>\n",
       "      <td>0:15</td>\n",
       "      <td>Niels Krabbe</td>\n",
       "      <td>...</td>\n",
       "      <td>06:43</td>\n",
       "      <td>Argentina</td>\n",
       "      <td>Salta: Gallinato, 1370 m</td>\n",
       "      <td>1360</td>\n",
       "      <td>song</td>\n",
       "      <td>Just a single phrase before the bird took off.</td>\n",
       "      <td>yes</td>\n",
       "      <td>no</td>\n",
       "      <td>A</td>\n",
       "      <td>252179</td>\n",
       "    </tr>\n",
       "    <tr>\n",
       "      <th>3</th>\n",
       "      <td>308</td>\n",
       "      <td>Rufous-bellied Thrush</td>\n",
       "      <td>Turdus-rufiventris</td>\n",
       "      <td>xc_audio_671301_646</td>\n",
       "      <td>//xeno-canto.org/sounds/uploaded/VLDFGFKOWN/XC...</td>\n",
       "      <td>671301</td>\n",
       "      <td>53</td>\n",
       "      <td>10</td>\n",
       "      <td>1:38</td>\n",
       "      <td>Franco Vushurovich</td>\n",
       "      <td>...</td>\n",
       "      <td>06:00</td>\n",
       "      <td>Argentina</td>\n",
       "      <td>PP Urugua-i, Misiones</td>\n",
       "      <td>320</td>\n",
       "      <td>song</td>\n",
       "      <td>bird-seen:no</td>\n",
       "      <td>no</td>\n",
       "      <td>no</td>\n",
       "      <td>A</td>\n",
       "      <td>2365801</td>\n",
       "    </tr>\n",
       "    <tr>\n",
       "      <th>4</th>\n",
       "      <td>362</td>\n",
       "      <td>Rufous-bellied Thrush</td>\n",
       "      <td>Turdus-rufiventris</td>\n",
       "      <td>xc_audio_648127_477</td>\n",
       "      <td>//xeno-canto.org/sounds/uploaded/VLDFGFKOWN/XC...</td>\n",
       "      <td>648127</td>\n",
       "      <td>55</td>\n",
       "      <td>5</td>\n",
       "      <td>0:09</td>\n",
       "      <td>Franco Vushurovich</td>\n",
       "      <td>...</td>\n",
       "      <td>13:30</td>\n",
       "      <td>Argentina</td>\n",
       "      <td>Pilcomayo, Formosa</td>\n",
       "      <td>80</td>\n",
       "      <td>begging call, subsong</td>\n",
       "      <td>bird-seen:no</td>\n",
       "      <td>no</td>\n",
       "      <td>no</td>\n",
       "      <td>A</td>\n",
       "      <td>237282</td>\n",
       "    </tr>\n",
       "  </tbody>\n",
       "</table>\n",
       "<p>5 rows × 21 columns</p>\n",
       "</div>"
      ],
      "text/plain": [
       "   key                   name            sci_name                   id  \\\n",
       "0  167  Rufous-bellied Thrush  Turdus-rufiventris  xc_audio_695280_550   \n",
       "1  180  Rufous-bellied Thrush  Turdus-rufiventris  xc_audio_692377_568   \n",
       "2  188  Rufous-bellied Thrush  Turdus-rufiventris   xc_audio_690795_80   \n",
       "3  308  Rufous-bellied Thrush  Turdus-rufiventris  xc_audio_671301_646   \n",
       "4  362  Rufous-bellied Thrush  Turdus-rufiventris  xc_audio_648127_477   \n",
       "\n",
       "                                    data-xc-filepath  data-xc-id  page  row  \\\n",
       "0  //xeno-canto.org/sounds/uploaded/XTVEPHMPPJ/XC...      695280    48   11   \n",
       "1  //xeno-canto.org/sounds/uploaded/XTVEPHMPPJ/XC...      692377    48   29   \n",
       "2  //xeno-canto.org/sounds/uploaded/XTVEPHMPPJ/XC...      690795    49    7   \n",
       "3  //xeno-canto.org/sounds/uploaded/VLDFGFKOWN/XC...      671301    53   10   \n",
       "4  //xeno-canto.org/sounds/uploaded/VLDFGFKOWN/XC...      648127    55    5   \n",
       "\n",
       "  length         contributor  ...    time    country  \\\n",
       "0   4:34        Niels Krabbe  ...   06:11  Argentina   \n",
       "1   1:38        Niels Krabbe  ...   06:06  Argentina   \n",
       "2   0:15        Niels Krabbe  ...   06:43  Argentina   \n",
       "3   1:38  Franco Vushurovich  ...   06:00  Argentina   \n",
       "4   0:09  Franco Vushurovich  ...   13:30  Argentina   \n",
       "\n",
       "                         location  elev                    type  \\\n",
       "0                Salta: La Misión  1270                   song    \n",
       "1  Salta: Vaqueros, 12 km N Salta  1270                   song    \n",
       "2        Salta: Gallinato, 1370 m  1360                   song    \n",
       "3           PP Urugua-i, Misiones   320                   song    \n",
       "4              Pilcomayo, Formosa    80  begging call, subsong    \n",
       "\n",
       "                                             note bird_seen playback_used  \\\n",
       "0                                    bird-seen:no        no            no   \n",
       "1                                    bird-seen:no        no            no   \n",
       "2  Just a single phrase before the bird took off.       yes            no   \n",
       "3                                    bird-seen:no        no            no   \n",
       "4                                    bird-seen:no        no            no   \n",
       "\n",
       "  class     size  \n",
       "0     A  4401294  \n",
       "1     A  1585389  \n",
       "2     A   252179  \n",
       "3     A  2365801  \n",
       "4     A   237282  \n",
       "\n",
       "[5 rows x 21 columns]"
      ]
     },
     "execution_count": 4,
     "metadata": {},
     "output_type": "execute_result"
    }
   ],
   "source": [
    "df = src.utils.generate_new_df()\n",
    "df.head()"
   ]
  },
  {
   "cell_type": "code",
   "execution_count": 5,
   "metadata": {},
   "outputs": [
    {
     "data": {
      "text/plain": [
       "(250, 21)"
      ]
     },
     "execution_count": 5,
     "metadata": {},
     "output_type": "execute_result"
    }
   ],
   "source": [
    "df.shape"
   ]
  },
  {
   "cell_type": "code",
   "execution_count": 6,
   "metadata": {},
   "outputs": [
    {
     "data": {
      "text/plain": [
       "(array(['Rufous-bellied Thrush', 'Yellow-olive Flatbill'], dtype=object),\n",
       " array(['Turdus-rufiventris', 'Tolmomyias-sulphurescens'], dtype=object))"
      ]
     },
     "execution_count": 6,
     "metadata": {},
     "output_type": "execute_result"
    }
   ],
   "source": [
    "df['name'].unique(), df['sci_name'].unique()"
   ]
  },
  {
   "cell_type": "code",
   "execution_count": 7,
   "metadata": {},
   "outputs": [],
   "source": [
    "rt = 'Rufous-bellied Thrush'\n",
    "yf = 'Yellow-olive Flatbill'"
   ]
  },
  {
   "cell_type": "code",
   "execution_count": 13,
   "metadata": {},
   "outputs": [],
   "source": [
    "for key in df[df['name'] == rt]['key']:\n",
    "    shutil.copyfile(src.utils.get_sel_mp3_fname(key), os.path.join('./data/sound_rt', f'sound_{key}.mp3'))\n",
    "    "
   ]
  },
  {
   "cell_type": "code",
   "execution_count": null,
   "metadata": {},
   "outputs": [],
   "source": [
    "for key in df[df['name'] == yf]['key']:\n",
    "    shutil.copyfile(src.utils.get_sel_mp3_fname(key), os.path.join('./data/sound_yf', f'sound_{key}.mp3'))"
   ]
  },
  {
   "cell_type": "code",
   "execution_count": 8,
   "metadata": {},
   "outputs": [
    {
     "data": {
      "text/plain": [
       "(127, 123)"
      ]
     },
     "execution_count": 8,
     "metadata": {},
     "output_type": "execute_result"
    }
   ],
   "source": [
    "rtl = df[df['name'] == rt].shape[0]\n",
    "yfl = df[df['name'] == yf].shape[0]\n",
    "rtl, yfl"
   ]
  },
  {
   "cell_type": "code",
   "execution_count": 9,
   "metadata": {},
   "outputs": [],
   "source": [
    "rt_split = np.random.choice([0, 1, 2], rtl, p=[0.6, 0.2, 0.2])\n",
    "yf_split = np.random.choice([0, 1, 2], yfl, p=[0.6, 0.2, 0.2])"
   ]
  },
  {
   "cell_type": "code",
   "execution_count": 10,
   "metadata": {},
   "outputs": [
    {
     "data": {
      "text/plain": [
       "(array([  0,   1,   4,   5,   6,   7,   8,   9,  10,  13,  14,  15,  16,\n",
       "         17,  18,  21,  22,  24,  25,  26,  27,  29,  30,  31,  32,  33,\n",
       "         34,  35,  38,  39,  40,  41,  44,  45,  46,  47,  56,  58,  60,\n",
       "         63,  65,  70,  71,  73,  75,  76,  78,  80,  81,  82,  84,  86,\n",
       "         87,  89,  91,  93,  94,  96, 101, 102, 103, 104, 105, 106, 107,\n",
       "        108, 109, 110, 111, 112, 113, 115, 118, 119, 120, 124, 126, 127,\n",
       "        128, 130, 131, 133, 134, 135, 136, 138, 139, 141, 142, 144, 146,\n",
       "        147, 149, 152, 154, 155, 156, 157, 159, 160, 161, 162, 166, 167,\n",
       "        168, 170, 172, 173, 174, 176, 179, 181, 183, 184, 185, 186, 187,\n",
       "        188, 190, 191, 193, 194, 195, 196, 198, 199, 201, 202, 203, 204,\n",
       "        205, 206, 207, 209, 210, 211, 212, 213, 215, 217, 220, 222, 225,\n",
       "        226, 227, 229, 230, 231, 234, 237, 238, 242, 243, 244, 245, 246,\n",
       "        247, 249]),\n",
       " array([  3,  11,  19,  20,  23,  28,  36,  42,  48,  49,  52,  59,  61,\n",
       "         67,  68,  69,  74,  77,  79,  85,  88,  90,  92,  98,  99, 114,\n",
       "        116, 117, 125, 140, 145, 148, 151, 164, 165, 178, 200, 208, 214,\n",
       "        216, 219, 221, 223, 233, 239, 248]),\n",
       " array([  2,  12,  37,  43,  50,  51,  53,  54,  55,  57,  62,  64,  66,\n",
       "         72,  83,  95,  97, 100, 121, 122, 123, 129, 132, 137, 143, 150,\n",
       "        153, 158, 163, 169, 171, 175, 177, 180, 182, 189, 192, 197, 218,\n",
       "        224, 228, 232, 235, 236, 240, 241]))"
      ]
     },
     "execution_count": 10,
     "metadata": {},
     "output_type": "execute_result"
    }
   ],
   "source": [
    "train_indices = np.sort(\n",
    "    np.concatenate(\n",
    "        [\n",
    "            df[df['name'] == rt].index[rt_split==0], \n",
    "            df[df['name'] == yf].index[yf_split==0]]\n",
    "        )\n",
    "    )\n",
    "validation_indices = np.sort(\n",
    "    np.concatenate(\n",
    "        [\n",
    "            df[df['name'] == rt].index[rt_split==1], \n",
    "            df[df['name'] == yf].index[yf_split==1]]\n",
    "        )\n",
    "    )\n",
    "test_indices = np.sort(\n",
    "    np.concatenate(\n",
    "        [\n",
    "            df[df['name'] == rt].index[rt_split==2], \n",
    "            df[df['name'] == yf].index[yf_split==2]]\n",
    "        )\n",
    "    )\n",
    "assert set(train_indices) | set(validation_indices) | set(test_indices) == set(np.arange(250))\n",
    "assert len(train_indices) + len(validation_indices) + len(test_indices) == 250\n",
    "train_indices, validation_indices, test_indices"
   ]
  },
  {
   "cell_type": "code",
   "execution_count": 14,
   "metadata": {},
   "outputs": [
    {
     "name": "stdout",
     "output_type": "stream",
     "text": [
      "(1800, 1800, 4)\n"
     ]
    }
   ],
   "source": [
    "\n",
    "\n",
    "im = imageio.imread(src.utils.get_spectrum_fname(7766))\n",
    "print(im.shape)"
   ]
  },
  {
   "cell_type": "code",
   "execution_count": 41,
   "metadata": {},
   "outputs": [
    {
     "data": {
      "text/plain": [
       "(1800, 1800, 3)"
      ]
     },
     "execution_count": 41,
     "metadata": {},
     "output_type": "execute_result"
    }
   ],
   "source": [
    "im[:,:,0:3].shape"
   ]
  },
  {
   "cell_type": "code",
   "execution_count": 30,
   "metadata": {},
   "outputs": [
    {
     "name": "stderr",
     "output_type": "stream",
     "text": [
      "2022-02-01 05:33:14.846702: W tensorflow/core/framework/cpu_allocator_impl.cc:82] Allocation of 3171942400 exceeds 10% of free system memory.\n",
      "2022-02-01 05:33:16.855328: W tensorflow/core/framework/cpu_allocator_impl.cc:82] Allocation of 3171942400 exceeds 10% of free system memory.\n",
      "2022-02-01 05:33:20.219695: W tensorflow/core/framework/cpu_allocator_impl.cc:82] Allocation of 3171942400 exceeds 10% of free system memory.\n"
     ]
    }
   ],
   "source": [
    "from keras import layers\n",
    "from keras import models\n",
    "\n",
    "model = models.Sequential()\n",
    "model.add(layers.Conv2D(32, (3, 3), activation='relu', input_shape=(1800, 1800, 4)))\n",
    "model.add(layers.MaxPooling2D((2, 2)))\n",
    "model.add(layers.Conv2D(64, (3, 3), activation='relu'))\n",
    "model.add(layers.MaxPooling2D((2, 2)))\n",
    "model.add(layers.Conv2D(128, (3, 3), activation='relu'))\n",
    "model.add(layers.MaxPooling2D((2, 2)))\n",
    "model.add(layers.Conv2D(128, (3, 3), activation='relu'))\n",
    "model.add(layers.MaxPooling2D((2, 2)))\n",
    "model.add(layers.Flatten())\n",
    "model.add(layers.Dense(512, activation='relu'))\n",
    "model.add(layers.Dense(1, activation='sigmoid'))"
   ]
  },
  {
   "cell_type": "code",
   "execution_count": 31,
   "metadata": {},
   "outputs": [
    {
     "name": "stdout",
     "output_type": "stream",
     "text": [
      "Model: \"sequential_1\"\n",
      "_________________________________________________________________\n",
      " Layer (type)                Output Shape              Param #   \n",
      "=================================================================\n",
      " conv2d_4 (Conv2D)           (None, 1798, 1798, 32)    1184      \n",
      "                                                                 \n",
      " max_pooling2d_4 (MaxPooling  (None, 899, 899, 32)     0         \n",
      " 2D)                                                             \n",
      "                                                                 \n",
      " conv2d_5 (Conv2D)           (None, 897, 897, 64)      18496     \n",
      "                                                                 \n",
      " max_pooling2d_5 (MaxPooling  (None, 448, 448, 64)     0         \n",
      " 2D)                                                             \n",
      "                                                                 \n",
      " conv2d_6 (Conv2D)           (None, 446, 446, 128)     73856     \n",
      "                                                                 \n",
      " max_pooling2d_6 (MaxPooling  (None, 223, 223, 128)    0         \n",
      " 2D)                                                             \n",
      "                                                                 \n",
      " conv2d_7 (Conv2D)           (None, 221, 221, 128)     147584    \n",
      "                                                                 \n",
      " max_pooling2d_7 (MaxPooling  (None, 110, 110, 128)    0         \n",
      " 2D)                                                             \n",
      "                                                                 \n",
      " flatten_1 (Flatten)         (None, 1548800)           0         \n",
      "                                                                 \n",
      " dense_1 (Dense)             (None, 512)               792986112 \n",
      "                                                                 \n",
      " dense_2 (Dense)             (None, 1)                 513       \n",
      "                                                                 \n",
      "=================================================================\n",
      "Total params: 793,227,745\n",
      "Trainable params: 793,227,745\n",
      "Non-trainable params: 0\n",
      "_________________________________________________________________\n"
     ]
    }
   ],
   "source": [
    "model.summary()"
   ]
  },
  {
   "cell_type": "code",
   "execution_count": 37,
   "metadata": {},
   "outputs": [],
   "source": [
    "from keras import optimizers\n",
    "\n",
    "model.compile(\n",
    "    loss='binary_crossentropy',\n",
    "    optimizer=optimizers.rmsprop_v2.RMSProp(lr=1.e-4),\n",
    "    metrics=['acc']\n",
    "    )"
   ]
  },
  {
   "cell_type": "code",
   "execution_count": null,
   "metadata": {},
   "outputs": [],
   "source": []
  }
 ],
 "metadata": {
  "interpreter": {
   "hash": "04d8603fbf6e3bc350366efc43c9870b96cb8c949f6e9cbd669a921366caf460"
  },
  "kernelspec": {
   "display_name": "Python 3.8.10 64-bit ('.venv': venv)",
   "language": "python",
   "name": "python3"
  },
  "language_info": {
   "codemirror_mode": {
    "name": "ipython",
    "version": 3
   },
   "file_extension": ".py",
   "mimetype": "text/x-python",
   "name": "python",
   "nbconvert_exporter": "python",
   "pygments_lexer": "ipython3",
   "version": "3.8.10"
  },
  "orig_nbformat": 4
 },
 "nbformat": 4,
 "nbformat_minor": 2
}
