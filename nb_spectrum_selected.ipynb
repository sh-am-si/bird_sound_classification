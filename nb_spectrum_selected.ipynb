{
 "cells": [
  {
   "cell_type": "markdown",
   "metadata": {},
   "source": [
    "# Spectrum \n",
    "[audio-deep-learning-made-simple-part-2]([audio-deep-learning-made-simple-part-2](https://towardsdatascience.com/audio-deep-learning-made-simple-part-2-why-mel-spectrograms-perform-better-aad889a93505))"
   ]
  },
  {
   "cell_type": "code",
   "execution_count": 1,
   "metadata": {},
   "outputs": [],
   "source": [
    "%load_ext autoreload\n",
    "%autoreload 2"
   ]
  },
  {
   "cell_type": "code",
   "execution_count": 2,
   "metadata": {},
   "outputs": [],
   "source": [
    "import numpy as np\n",
    "import matplotlib.pylab as plt\n",
    "from pydub import AudioSegment, silence\n",
    "\n",
    "from pydub.playback import play\n",
    "\n",
    "%matplotlib inline"
   ]
  },
  {
   "cell_type": "code",
   "execution_count": 3,
   "metadata": {},
   "outputs": [],
   "source": [
    "import src.utils"
   ]
  },
  {
   "cell_type": "code",
   "execution_count": 11,
   "metadata": {},
   "outputs": [
    {
     "data": {
      "text/html": [
       "<div>\n",
       "<style scoped>\n",
       "    .dataframe tbody tr th:only-of-type {\n",
       "        vertical-align: middle;\n",
       "    }\n",
       "\n",
       "    .dataframe tbody tr th {\n",
       "        vertical-align: top;\n",
       "    }\n",
       "\n",
       "    .dataframe thead th {\n",
       "        text-align: right;\n",
       "    }\n",
       "</style>\n",
       "<table border=\"1\" class=\"dataframe\">\n",
       "  <thead>\n",
       "    <tr style=\"text-align: right;\">\n",
       "      <th></th>\n",
       "      <th>key</th>\n",
       "      <th>name</th>\n",
       "      <th>sci_name</th>\n",
       "      <th>id</th>\n",
       "      <th>data-xc-filepath</th>\n",
       "      <th>data-xc-id</th>\n",
       "      <th>page</th>\n",
       "      <th>row</th>\n",
       "      <th>length</th>\n",
       "      <th>contributor</th>\n",
       "      <th>...</th>\n",
       "      <th>time</th>\n",
       "      <th>country</th>\n",
       "      <th>location</th>\n",
       "      <th>elev</th>\n",
       "      <th>type</th>\n",
       "      <th>note</th>\n",
       "      <th>bird_seen</th>\n",
       "      <th>playback_used</th>\n",
       "      <th>class</th>\n",
       "      <th>size</th>\n",
       "    </tr>\n",
       "  </thead>\n",
       "  <tbody>\n",
       "    <tr>\n",
       "      <th>245</th>\n",
       "      <td>33835</td>\n",
       "      <td>Yellow-olive Flatbill</td>\n",
       "      <td>Tolmomyias-sulphurescens</td>\n",
       "      <td>xc_audio_96443_257</td>\n",
       "      <td>//xeno-canto.org/sounds/uploaded/DGVLLRYDXS/TO...</td>\n",
       "      <td>96443</td>\n",
       "      <td>2114</td>\n",
       "      <td>1</td>\n",
       "      <td>0:32</td>\n",
       "      <td>Jeremy Minns</td>\n",
       "      <td>...</td>\n",
       "      <td>10:46</td>\n",
       "      <td>Brazil</td>\n",
       "      <td>Serra dos Carajás. Rio Parauapebas</td>\n",
       "      <td>170</td>\n",
       "      <td>Call, song</td>\n",
       "      <td>Várzea / transitional forest. Natural calls of...</td>\n",
       "      <td>yes</td>\n",
       "      <td>no</td>\n",
       "      <td>A</td>\n",
       "      <td>520797</td>\n",
       "    </tr>\n",
       "    <tr>\n",
       "      <th>246</th>\n",
       "      <td>33836</td>\n",
       "      <td>Yellow-olive Flatbill</td>\n",
       "      <td>Tolmomyias-sulphurescens</td>\n",
       "      <td>xc_audio_96441_258</td>\n",
       "      <td>//xeno-canto.org/sounds/uploaded/DGVLLRYDXS/TO...</td>\n",
       "      <td>96441</td>\n",
       "      <td>2114</td>\n",
       "      <td>2</td>\n",
       "      <td>0:45</td>\n",
       "      <td>Jeremy Minns</td>\n",
       "      <td>...</td>\n",
       "      <td>07:38</td>\n",
       "      <td>Brazil</td>\n",
       "      <td>Anavilhanas Archipelago, Amazonas</td>\n",
       "      <td>16</td>\n",
       "      <td>Song</td>\n",
       "      <td>Edge of flooded igapó forest. After playback.</td>\n",
       "      <td>NaN</td>\n",
       "      <td>NaN</td>\n",
       "      <td>A</td>\n",
       "      <td>729856</td>\n",
       "    </tr>\n",
       "    <tr>\n",
       "      <th>247</th>\n",
       "      <td>33903</td>\n",
       "      <td>Rufous-bellied Thrush</td>\n",
       "      <td>Turdus-rufiventris</td>\n",
       "      <td>xc_audio_91630_1007</td>\n",
       "      <td>//xeno-canto.org/sounds/uploaded/UTCLOBFQPH/LS...</td>\n",
       "      <td>91630</td>\n",
       "      <td>2116</td>\n",
       "      <td>9</td>\n",
       "      <td>1:36</td>\n",
       "      <td>Juha Honkala</td>\n",
       "      <td>...</td>\n",
       "      <td>14.00</td>\n",
       "      <td>Brazil</td>\n",
       "      <td>Intervales State Park. Residential area</td>\n",
       "      <td>800</td>\n",
       "      <td>song</td>\n",
       "      <td>[sono]</td>\n",
       "      <td>NaN</td>\n",
       "      <td>NaN</td>\n",
       "      <td>A</td>\n",
       "      <td>1551503</td>\n",
       "    </tr>\n",
       "    <tr>\n",
       "      <th>248</th>\n",
       "      <td>33951</td>\n",
       "      <td>Rufous-bellied Thrush</td>\n",
       "      <td>Turdus-rufiventris</td>\n",
       "      <td>xc_audio_91094_960</td>\n",
       "      <td>//xeno-canto.org/sounds/uploaded/JDNMEJOJEQ/Tu...</td>\n",
       "      <td>91094</td>\n",
       "      <td>2117</td>\n",
       "      <td>27</td>\n",
       "      <td>0:37</td>\n",
       "      <td>Glauco Kohler</td>\n",
       "      <td>...</td>\n",
       "      <td>16:35</td>\n",
       "      <td>Brazil</td>\n",
       "      <td>RPPN Chácara Edith, Brusque, Santa Catarina</td>\n",
       "      <td>30</td>\n",
       "      <td>song</td>\n",
       "      <td>Recording (not its ID) has been discussed. See...</td>\n",
       "      <td>NaN</td>\n",
       "      <td>NaN</td>\n",
       "      <td>A</td>\n",
       "      <td>610238</td>\n",
       "    </tr>\n",
       "    <tr>\n",
       "      <th>249</th>\n",
       "      <td>34000</td>\n",
       "      <td>Yellow-olive Flatbill</td>\n",
       "      <td>Tolmomyias-sulphurescens</td>\n",
       "      <td>xc_audio_90201_808</td>\n",
       "      <td>//xeno-canto.org/sounds/uploaded/INDDBZAFJL/R0...</td>\n",
       "      <td>90201</td>\n",
       "      <td>2119</td>\n",
       "      <td>16</td>\n",
       "      <td>0:18</td>\n",
       "      <td>Alexander Lees</td>\n",
       "      <td>...</td>\n",
       "      <td>09:00</td>\n",
       "      <td>Brazil</td>\n",
       "      <td>Bonfinopolis, GO</td>\n",
       "      <td>850</td>\n",
       "      <td>song</td>\n",
       "      <td>secondary forest at edge of cattle pasture</td>\n",
       "      <td>NaN</td>\n",
       "      <td>NaN</td>\n",
       "      <td>A</td>\n",
       "      <td>303557</td>\n",
       "    </tr>\n",
       "  </tbody>\n",
       "</table>\n",
       "<p>5 rows × 21 columns</p>\n",
       "</div>"
      ],
      "text/plain": [
       "       key                   name                  sci_name  \\\n",
       "245  33835  Yellow-olive Flatbill  Tolmomyias-sulphurescens   \n",
       "246  33836  Yellow-olive Flatbill  Tolmomyias-sulphurescens   \n",
       "247  33903  Rufous-bellied Thrush        Turdus-rufiventris   \n",
       "248  33951  Rufous-bellied Thrush        Turdus-rufiventris   \n",
       "249  34000  Yellow-olive Flatbill  Tolmomyias-sulphurescens   \n",
       "\n",
       "                      id                                   data-xc-filepath  \\\n",
       "245   xc_audio_96443_257  //xeno-canto.org/sounds/uploaded/DGVLLRYDXS/TO...   \n",
       "246   xc_audio_96441_258  //xeno-canto.org/sounds/uploaded/DGVLLRYDXS/TO...   \n",
       "247  xc_audio_91630_1007  //xeno-canto.org/sounds/uploaded/UTCLOBFQPH/LS...   \n",
       "248   xc_audio_91094_960  //xeno-canto.org/sounds/uploaded/JDNMEJOJEQ/Tu...   \n",
       "249   xc_audio_90201_808  //xeno-canto.org/sounds/uploaded/INDDBZAFJL/R0...   \n",
       "\n",
       "     data-xc-id  page  row length     contributor  ...    time country  \\\n",
       "245       96443  2114    1   0:32    Jeremy Minns  ...   10:46  Brazil   \n",
       "246       96441  2114    2   0:45    Jeremy Minns  ...   07:38  Brazil   \n",
       "247       91630  2116    9   1:36    Juha Honkala  ...   14.00  Brazil   \n",
       "248       91094  2117   27   0:37   Glauco Kohler  ...   16:35  Brazil   \n",
       "249       90201  2119   16   0:18  Alexander Lees  ...   09:00  Brazil   \n",
       "\n",
       "                                        location elev         type  \\\n",
       "245           Serra dos Carajás. Rio Parauapebas  170  Call, song    \n",
       "246            Anavilhanas Archipelago, Amazonas   16        Song    \n",
       "247      Intervales State Park. Residential area  800        song    \n",
       "248  RPPN Chácara Edith, Brusque, Santa Catarina   30        song    \n",
       "249                             Bonfinopolis, GO  850        song    \n",
       "\n",
       "                                                  note bird_seen  \\\n",
       "245  Várzea / transitional forest. Natural calls of...       yes   \n",
       "246      Edge of flooded igapó forest. After playback.       NaN   \n",
       "247                                             [sono]       NaN   \n",
       "248  Recording (not its ID) has been discussed. See...       NaN   \n",
       "249         secondary forest at edge of cattle pasture       NaN   \n",
       "\n",
       "    playback_used class     size  \n",
       "245            no     A   520797  \n",
       "246           NaN     A   729856  \n",
       "247           NaN     A  1551503  \n",
       "248           NaN     A   610238  \n",
       "249           NaN     A   303557  \n",
       "\n",
       "[5 rows x 21 columns]"
      ]
     },
     "execution_count": 11,
     "metadata": {},
     "output_type": "execute_result"
    }
   ],
   "source": [
    "df = src.utils.generate_new_df()\n",
    "df.tail()"
   ]
  },
  {
   "cell_type": "code",
   "execution_count": 5,
   "metadata": {},
   "outputs": [
    {
     "data": {
      "text/plain": [
       "(250, 21)"
      ]
     },
     "execution_count": 5,
     "metadata": {},
     "output_type": "execute_result"
    }
   ],
   "source": [
    "df.shape"
   ]
  },
  {
   "cell_type": "code",
   "execution_count": 9,
   "metadata": {},
   "outputs": [
    {
     "data": {
      "text/plain": [
       "'./data/sound_selected_db/sound_167.mp3'"
      ]
     },
     "execution_count": 9,
     "metadata": {},
     "output_type": "execute_result"
    }
   ],
   "source": [
    "src.utils.get_sel_mp3_fname(167)"
   ]
  },
  {
   "cell_type": "code",
   "execution_count": 83,
   "metadata": {},
   "outputs": [],
   "source": [
    "song = AudioSegment.from_mp3(src.utils.get_mp3_fname(3))\n",
    "# play(song)"
   ]
  },
  {
   "cell_type": "code",
   "execution_count": null,
   "metadata": {},
   "outputs": [],
   "source": [
    "for ri , row in df.iterrows():\n",
    "    song = AudioSegment.from_mp3(src.utils.get_sel_mp3_fname(row['key']))\n",
    "    if song.channels == 2:\n",
    "        song = song.set_channels(1)\n",
    "    elif song.channels > 2:\n",
    "        print(f'in row {ri} more than two channels {song.channels}')\n",
    "    else:\n",
    "        pass\n",
    "\n",
    "    commponents = silence.split_on_silence(song)\n",
    "    if commponents:\n",
    "        result = commponents[0]\n",
    "        for i in range(1, len(commponents)):\n",
    "            result.append(commponents[i], crossfade=0)\n",
    "\n",
    "    seg = np.fft.fft(np.array(song.get_array_of_samples()))\n",
    "    fig, ax = plt.subplots(1, figsize=(12,12))\n",
    "    ax.specgram(seg, NFFT=1024, Fs=song.frame_rate, noverlap=900)\n",
    "    # ax.set_xlabel('Time')\n",
    "    # ax.set_ylabel('Frequency')\n",
    "    ax.set_yticklabels([])\n",
    "    ax.set_xticklabels([])\n",
    "    ax.spines['top'].set_visible(False)\n",
    "    ax.spines['right'].set_visible(False)\n",
    "    ax.spines['bottom'].set_visible(False)\n",
    "    ax.spines['left'].set_visible(False)\n",
    "\n",
    "    plt.savefig(f\"./data/pics_selected_db/spectrum_{row['key']}.png\", dpi=150)\n",
    "\n"
   ]
  },
  {
   "cell_type": "code",
   "execution_count": 77,
   "metadata": {},
   "outputs": [
    {
     "data": {
      "text/plain": [
       "(1194624,)"
      ]
     },
     "execution_count": 77,
     "metadata": {},
     "output_type": "execute_result"
    }
   ],
   "source": [
    "np.array(song.get_array_of_samples()).shape"
   ]
  },
  {
   "cell_type": "code",
   "execution_count": 63,
   "metadata": {},
   "outputs": [
    {
     "data": {
      "text/plain": [
       "((1194624,),\n",
       " array([-793879.            +0.j        ,  249634.00870782 -1078.15987194j,\n",
       "         174286.23705362+23692.38332479j, ...,\n",
       "         245472.95654881 +3606.20937884j,  174286.23705362-23692.38332479j,\n",
       "         249634.00870782 +1078.15987194j]))"
      ]
     },
     "execution_count": 63,
     "metadata": {},
     "output_type": "execute_result"
    }
   ],
   "source": [
    "seg = np.fft.fft(np.array(song.get_array_of_samples()))\n",
    "seg.shape, seg"
   ]
  },
  {
   "cell_type": "code",
   "execution_count": 64,
   "metadata": {},
   "outputs": [
    {
     "data": {
      "text/plain": [
       "array([-9.14170554-0.6753355j , -4.51955708+7.11193507j,\n",
       "       -4.98529474+0.41187588j,  0.85409671+9.91642658j,\n",
       "        8.97879942-3.0832914j ,  5.7641218 +2.19403504j,\n",
       "        6.31174672-3.87351913j,  6.52887887+7.2731691j ,\n",
       "       -2.93158379-1.08640338j,  9.01602657+1.97225904j,\n",
       "        7.2105585 +4.81741734j, -2.67918287-1.14839594j,\n",
       "       -3.95202472-6.13943299j, -5.03698136+7.53825658j,\n",
       "       -2.8303456 +7.83667241j, -0.9126182 -2.14468993j,\n",
       "        2.35002547-7.70997826j, -3.09783401-7.3144298j ,\n",
       "       -4.4058888 -2.30930173j, -1.9024249 +4.07144356j,\n",
       "        3.83844124+3.46076852j, -0.34854837-8.66469507j,\n",
       "        2.27624278+3.65154199j,  3.96433499+6.18625282j,\n",
       "        2.66863574-5.37379268j,  3.40603103+2.53922485j,\n",
       "        7.88079816+2.93747246j, -8.76170098+3.9134814j ,\n",
       "       -2.34709319-9.21594027j, -4.02221132+4.35556158j,\n",
       "       -7.46038919-6.73135802j,  3.32083081-3.25757924j,\n",
       "       -0.10108192+4.48944227j, -2.89764463-0.94769494j,\n",
       "       -0.83870407-5.30520482j, -7.65308131-4.6826501j ,\n",
       "       -6.99951272-1.24184384j, -0.44448039-3.29655311j,\n",
       "       -8.51181492-5.24231348j, -4.24076646-8.42229233j,\n",
       "       -4.66132943+2.93987278j, -1.68892929+5.83351667j,\n",
       "       -7.25279776+3.97297063j,  0.06208402+8.18587461j,\n",
       "        0.04826823-8.07095775j, -0.64002567-1.2410657j ,\n",
       "       -2.81731593-3.76254147j,  3.72743486+4.62033589j,\n",
       "       -6.56166382-2.27323503j, -2.32958709+6.51414293j,\n",
       "       -1.7062048 +6.82224301j, -0.78128241-0.52789751j,\n",
       "       -2.19413209-9.7824967j ,  0.05587466-1.07314573j,\n",
       "       -6.08369709+3.72212907j,  3.75104579-7.32910531j,\n",
       "       -0.25540215-4.09204861j,  3.31262676-4.33436207j,\n",
       "        6.53602428-2.64566014j, -6.75110275-5.96419908j,\n",
       "        5.01251415+8.33533869j, -3.19479661+1.26747232j,\n",
       "        8.93042585+2.96462613j, -5.42398492-0.53277834j,\n",
       "       -4.81870462+5.85355497j,  4.62065741+0.10313446j,\n",
       "       -3.60691118+9.18067624j, -5.20925565-0.79249553j,\n",
       "        1.75003557+9.42606174j,  0.37392489+8.14797883j,\n",
       "       -1.90317755+0.74145232j, -8.01431145+0.55874956j,\n",
       "        4.23964186-8.39806134j, -6.95649926-4.79707274j,\n",
       "       -8.8421926 -4.09031284j, -3.20539148+9.29703236j,\n",
       "        2.65550045-8.47229116j, -7.89143921-2.24970648j,\n",
       "       -6.19351251-6.58612048j, -3.71510468-0.25234107j,\n",
       "        4.27375934-3.448411j  ,  4.76029775+5.56203111j,\n",
       "       -4.58046644-2.12011965j,  0.78735524+5.70801649j,\n",
       "       -0.61755775+8.20535306j,  7.27084799-5.53477112j,\n",
       "       -0.18285312-1.22706836j,  8.14995574+4.69501541j,\n",
       "        0.0855797 +7.24180095j,  0.0855797 -7.24180095j,\n",
       "        8.14995574-4.69501541j, -0.18285312+1.22706836j,\n",
       "        7.27084799+5.53477112j, -0.61755775-8.20535306j,\n",
       "        0.78735524-5.70801649j, -4.58046644+2.12011965j,\n",
       "        4.76029775-5.56203111j,  4.27375934+3.448411j  ,\n",
       "       -3.71510468+0.25234107j, -6.19351251+6.58612048j,\n",
       "       -7.89143921+2.24970648j,  2.65550045+8.47229116j,\n",
       "       -3.20539148-9.29703236j, -8.8421926 +4.09031284j,\n",
       "       -6.95649926+4.79707274j,  4.23964186+8.39806134j,\n",
       "       -8.01431145-0.55874956j, -1.90317755-0.74145232j,\n",
       "        0.37392489-8.14797883j,  1.75003557-9.42606174j,\n",
       "       -5.20925565+0.79249553j, -3.60691118-9.18067624j,\n",
       "        4.62065741-0.10313446j, -4.81870462-5.85355497j,\n",
       "       -5.42398492+0.53277834j,  8.93042585-2.96462613j,\n",
       "       -3.19479661-1.26747232j,  5.01251415-8.33533869j,\n",
       "       -6.75110275+5.96419908j,  6.53602428+2.64566014j,\n",
       "        3.31262676+4.33436207j, -0.25540215+4.09204861j,\n",
       "        3.75104579+7.32910531j, -6.08369709-3.72212907j,\n",
       "        0.05587466+1.07314573j, -2.19413209+9.7824967j ,\n",
       "       -0.78128241+0.52789751j, -1.7062048 -6.82224301j,\n",
       "       -2.32958709-6.51414293j, -6.56166382+2.27323503j,\n",
       "        3.72743486-4.62033589j, -2.81731593+3.76254147j,\n",
       "       -0.64002567+1.2410657j ,  0.04826823+8.07095775j,\n",
       "        0.06208402-8.18587461j, -7.25279776-3.97297063j,\n",
       "       -1.68892929-5.83351667j, -4.66132943-2.93987278j,\n",
       "       -4.24076646+8.42229233j, -8.51181492+5.24231348j,\n",
       "       -0.44448039+3.29655311j, -6.99951272+1.24184384j,\n",
       "       -7.65308131+4.6826501j , -0.83870407+5.30520482j,\n",
       "       -2.89764463+0.94769494j, -0.10108192-4.48944227j,\n",
       "        3.32083081+3.25757924j, -7.46038919+6.73135802j,\n",
       "       -4.02221132-4.35556158j, -2.34709319+9.21594027j,\n",
       "       -8.76170098-3.9134814j ,  7.88079816-2.93747246j,\n",
       "        3.40603103-2.53922485j,  2.66863574+5.37379268j,\n",
       "        3.96433499-6.18625282j,  2.27624278-3.65154199j,\n",
       "       -0.34854837+8.66469507j,  3.83844124-3.46076852j,\n",
       "       -1.9024249 -4.07144356j, -4.4058888 +2.30930173j,\n",
       "       -3.09783401+7.3144298j ,  2.35002547+7.70997826j,\n",
       "       -0.9126182 +2.14468993j, -2.8303456 -7.83667241j,\n",
       "       -5.03698136-7.53825658j, -3.95202472+6.13943299j,\n",
       "       -2.67918287+1.14839594j,  7.2105585 -4.81741734j,\n",
       "        9.01602657-1.97225904j, -2.93158379+1.08640338j,\n",
       "        6.52887887-7.2731691j ,  6.31174672+3.87351913j,\n",
       "        5.7641218 -2.19403504j,  8.97879942+3.0832914j ,\n",
       "        0.85409671-9.91642658j, -4.98529474-0.41187588j,\n",
       "       -4.51955708-7.11193507j, -9.14170554+0.6753355j ])"
      ]
     },
     "execution_count": 64,
     "metadata": {},
     "output_type": "execute_result"
    }
   ],
   "source": [
    "seg[np.abs(seg)<10.1]"
   ]
  },
  {
   "cell_type": "code",
   "execution_count": 65,
   "metadata": {},
   "outputs": [
    {
     "data": {
      "text/plain": [
       "[<matplotlib.lines.Line2D at 0x7f9ccc217610>]"
      ]
     },
     "execution_count": 65,
     "metadata": {},
     "output_type": "execute_result"
    },
    {
     "data": {
      "image/png": "[encoded data removed]",
      "text/plain": [
       "<Figure size 432x288 with 1 Axes>"
      ]
     },
     "metadata": {
      "needs_background": "light"
     },
     "output_type": "display_data"
    }
   ],
   "source": [
    "plt.plot(np.real(seg))"
   ]
  },
  {
   "cell_type": "code",
   "execution_count": 66,
   "metadata": {},
   "outputs": [
    {
     "data": {
      "image/png": "[encoded data removed]",
      "text/plain": [
       "<Figure size 432x288 with 2 Axes>"
      ]
     },
     "metadata": {
      "needs_background": "light"
     },
     "output_type": "display_data"
    }
   ],
   "source": [
    "sample_rate = 16000\n",
    "plt.figure(1)\n",
    "\n",
    "plot_a = plt.subplot(211)\n",
    "plot_a.plot(seg)\n",
    "plot_a.set_xlabel('sample rate * time')\n",
    "plot_a.set_ylabel('energy')\n",
    "\n",
    "plot_b = plt.subplot(212)\n",
    "plot_b.specgram(seg, NFFT=1024, Fs=sample_rate, noverlap=900)\n",
    "plot_b.set_xlabel('Time')\n",
    "plot_b.set_ylabel('Frequency')\n",
    "\n",
    "plt.savefig('./data/sound_3.png')\n",
    "plt.show()"
   ]
  },
  {
   "cell_type": "code",
   "execution_count": null,
   "metadata": {},
   "outputs": [],
   "source": []
  }
 ],
 "metadata": {
  "interpreter": {
   "hash": "04d8603fbf6e3bc350366efc43c9870b96cb8c949f6e9cbd669a921366caf460"
  },
  "kernelspec": {
   "display_name": "Python 3.8.10 64-bit ('.venv': venv)",
   "language": "python",
   "name": "python3"
  },
  "language_info": {
   "codemirror_mode": {
    "name": "ipython",
    "version": 3
   },
   "file_extension": ".py",
   "mimetype": "text/x-python",
   "name": "python",
   "nbconvert_exporter": "python",
   "pygments_lexer": "ipython3",
   "version": "3.8.10"
  },
  "orig_nbformat": 4
 },
 "nbformat": 4,
 "nbformat_minor": 2
}
