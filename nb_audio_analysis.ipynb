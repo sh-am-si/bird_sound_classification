{
 "cells": [
  {
   "cell_type": "code",
   "execution_count": 1,
   "metadata": {},
   "outputs": [],
   "source": [
    "import src.utils"
   ]
  },
  {
   "cell_type": "code",
   "execution_count": 8,
   "metadata": {},
   "outputs": [],
   "source": [
    "# Example 1: short-term feature extraction\n",
    "from pyAudioAnalysis import ShortTermFeatures as aF\n",
    "from pyAudioAnalysis import audioBasicIO as aIO \n",
    "from pyAudioAnalysis import MidTermFeatures as mTF\n",
    "from sklearn.svm import SVC\n",
    "import numpy as np \n",
    "import plotly.graph_objs as go \n",
    "import plotly\n",
    "import IPython\n",
    "import os\n",
    "import pickle\n"
   ]
  },
  {
   "cell_type": "code",
   "execution_count": 3,
   "metadata": {},
   "outputs": [],
   "source": [
    "rt = 'Rufous-bellied Thrush'\n",
    "yf = 'Yellow-olive Flatbill'"
   ]
  },
  {
   "cell_type": "code",
   "execution_count": 20,
   "metadata": {},
   "outputs": [
    {
     "name": "stdout",
     "output_type": "stream",
     "text": [
      "Analyzing file 1 of 127: ./data/sound_rt/sound_1142.mp3\n",
      "Analyzing file 2 of 127: ./data/sound_rt/sound_1196.mp3\n",
      "Analyzing file 3 of 127: ./data/sound_rt/sound_1197.mp3\n",
      "Analyzing file 4 of 127: ./data/sound_rt/sound_1207.mp3\n",
      "Analyzing file 5 of 127: ./data/sound_rt/sound_1239.mp3\n",
      "Analyzing file 6 of 127: ./data/sound_rt/sound_15459.mp3\n",
      "Analyzing file 7 of 127: ./data/sound_rt/sound_1551.mp3\n",
      "Analyzing file 8 of 127: ./data/sound_rt/sound_1552.mp3\n",
      "Analyzing file 9 of 127: ./data/sound_rt/sound_1553.mp3\n",
      "Analyzing file 10 of 127: ./data/sound_rt/sound_1554.mp3\n",
      "Analyzing file 11 of 127: ./data/sound_rt/sound_1555.mp3\n",
      "Analyzing file 12 of 127: ./data/sound_rt/sound_15712.mp3\n",
      "Analyzing file 13 of 127: ./data/sound_rt/sound_167.mp3\n",
      "Analyzing file 14 of 127: ./data/sound_rt/sound_16900.mp3\n",
      "Analyzing file 15 of 127: ./data/sound_rt/sound_16920.mp3\n",
      "Analyzing file 16 of 127: ./data/sound_rt/sound_16941.mp3\n",
      "Analyzing file 17 of 127: ./data/sound_rt/sound_16942.mp3\n",
      "Analyzing file 18 of 127: ./data/sound_rt/sound_16943.mp3\n",
      "Analyzing file 19 of 127: ./data/sound_rt/sound_16944.mp3\n",
      "Analyzing file 20 of 127: ./data/sound_rt/sound_17487.mp3\n",
      "Analyzing file 21 of 127: ./data/sound_rt/sound_180.mp3\n",
      "Analyzing file 22 of 127: ./data/sound_rt/sound_18007.mp3\n",
      "Analyzing file 23 of 127: ./data/sound_rt/sound_18069.mp3\n",
      "Analyzing file 24 of 127: ./data/sound_rt/sound_18144.mp3\n",
      "Analyzing file 25 of 127: ./data/sound_rt/sound_18240.mp3\n",
      "Analyzing file 26 of 127: ./data/sound_rt/sound_18291.mp3\n",
      "Analyzing file 27 of 127: ./data/sound_rt/sound_18307.mp3\n",
      "Analyzing file 28 of 127: ./data/sound_rt/sound_188.mp3\n",
      "Analyzing file 29 of 127: ./data/sound_rt/sound_19277.mp3\n",
      "Analyzing file 30 of 127: ./data/sound_rt/sound_19440.mp3\n",
      "Analyzing file 31 of 127: ./data/sound_rt/sound_1954.mp3\n",
      "Analyzing file 32 of 127: ./data/sound_rt/sound_19630.mp3\n",
      "Analyzing file 33 of 127: ./data/sound_rt/sound_19830.mp3\n",
      "Analyzing file 34 of 127: ./data/sound_rt/sound_19835.mp3\n",
      "Analyzing file 35 of 127: ./data/sound_rt/sound_19929.mp3\n",
      "Analyzing file 36 of 127: ./data/sound_rt/sound_19930.mp3\n",
      "Analyzing file 37 of 127: ./data/sound_rt/sound_19931.mp3\n",
      "Analyzing file 38 of 127: ./data/sound_rt/sound_1998.mp3\n",
      "Analyzing file 39 of 127: ./data/sound_rt/sound_2012.mp3\n",
      "Analyzing file 40 of 127: ./data/sound_rt/sound_2013.mp3\n",
      "Analyzing file 41 of 127: ./data/sound_rt/sound_20535.mp3\n",
      "Analyzing file 42 of 127: ./data/sound_rt/sound_20572.mp3\n",
      "Analyzing file 43 of 127: ./data/sound_rt/sound_20962.mp3\n",
      "Analyzing file 44 of 127: ./data/sound_rt/sound_21236.mp3\n",
      "Analyzing file 45 of 127: ./data/sound_rt/sound_21445.mp3\n",
      "Analyzing file 46 of 127: ./data/sound_rt/sound_21611.mp3\n",
      "Analyzing file 47 of 127: ./data/sound_rt/sound_22757.mp3\n",
      "Analyzing file 48 of 127: ./data/sound_rt/sound_24708.mp3\n",
      "Analyzing file 49 of 127: ./data/sound_rt/sound_24767.mp3\n",
      "Analyzing file 50 of 127: ./data/sound_rt/sound_24768.mp3\n",
      "Analyzing file 51 of 127: ./data/sound_rt/sound_24840.mp3\n",
      "Analyzing file 52 of 127: ./data/sound_rt/sound_24867.mp3\n",
      "Analyzing file 53 of 127: ./data/sound_rt/sound_24929.mp3\n",
      "Analyzing file 54 of 127: ./data/sound_rt/sound_2510.mp3\n",
      "Analyzing file 55 of 127: ./data/sound_rt/sound_25545.mp3\n",
      "Analyzing file 56 of 127: ./data/sound_rt/sound_25866.mp3\n",
      "Analyzing file 57 of 127: ./data/sound_rt/sound_26176.mp3\n",
      "Analyzing file 58 of 127: ./data/sound_rt/sound_26188.mp3\n",
      "Analyzing file 59 of 127: ./data/sound_rt/sound_26200.mp3\n",
      "Analyzing file 60 of 127: ./data/sound_rt/sound_26260.mp3\n",
      "Analyzing file 61 of 127: ./data/sound_rt/sound_26306.mp3\n",
      "Analyzing file 62 of 127: ./data/sound_rt/sound_26454.mp3\n",
      "Analyzing file 63 of 127: ./data/sound_rt/sound_26546.mp3\n",
      "Analyzing file 64 of 127: ./data/sound_rt/sound_26923.mp3\n",
      "Analyzing file 65 of 127: ./data/sound_rt/sound_27235.mp3\n",
      "Analyzing file 66 of 127: ./data/sound_rt/sound_27622.mp3\n",
      "Analyzing file 67 of 127: ./data/sound_rt/sound_28002.mp3\n",
      "Analyzing file 68 of 127: ./data/sound_rt/sound_28104.mp3\n",
      "Analyzing file 69 of 127: ./data/sound_rt/sound_28105.mp3\n",
      "Analyzing file 70 of 127: ./data/sound_rt/sound_28106.mp3\n",
      "Analyzing file 71 of 127: ./data/sound_rt/sound_28107.mp3\n",
      "Analyzing file 72 of 127: ./data/sound_rt/sound_28108.mp3\n",
      "Analyzing file 73 of 127: ./data/sound_rt/sound_28109.mp3\n",
      "Analyzing file 74 of 127: ./data/sound_rt/sound_28110.mp3\n",
      "Analyzing file 75 of 127: ./data/sound_rt/sound_28111.mp3\n",
      "Analyzing file 76 of 127: ./data/sound_rt/sound_28112.mp3\n",
      "Analyzing file 77 of 127: ./data/sound_rt/sound_28113.mp3\n",
      "Analyzing file 78 of 127: ./data/sound_rt/sound_28114.mp3\n",
      "Analyzing file 79 of 127: ./data/sound_rt/sound_28133.mp3\n",
      "Analyzing file 80 of 127: ./data/sound_rt/sound_28229.mp3\n",
      "Analyzing file 81 of 127: ./data/sound_rt/sound_28230.mp3\n",
      "Analyzing file 82 of 127: ./data/sound_rt/sound_28232.mp3\n",
      "Analyzing file 83 of 127: ./data/sound_rt/sound_28233.mp3\n",
      "Analyzing file 84 of 127: ./data/sound_rt/sound_28244.mp3\n",
      "Analyzing file 85 of 127: ./data/sound_rt/sound_28245.mp3\n",
      "Analyzing file 86 of 127: ./data/sound_rt/sound_28246.mp3\n",
      "Analyzing file 87 of 127: ./data/sound_rt/sound_28360.mp3\n",
      "Analyzing file 88 of 127: ./data/sound_rt/sound_28424.mp3\n",
      "Analyzing file 89 of 127: ./data/sound_rt/sound_28456.mp3\n",
      "Analyzing file 90 of 127: ./data/sound_rt/sound_28472.mp3\n",
      "Analyzing file 91 of 127: ./data/sound_rt/sound_28579.mp3\n",
      "Analyzing file 92 of 127: ./data/sound_rt/sound_29248.mp3\n",
      "Analyzing file 93 of 127: ./data/sound_rt/sound_29414.mp3\n",
      "Analyzing file 94 of 127: ./data/sound_rt/sound_29594.mp3\n",
      "Analyzing file 95 of 127: ./data/sound_rt/sound_29642.mp3\n",
      "Analyzing file 96 of 127: ./data/sound_rt/sound_29843.mp3\n",
      "Analyzing file 97 of 127: ./data/sound_rt/sound_30709.mp3\n",
      "Analyzing file 98 of 127: ./data/sound_rt/sound_308.mp3\n",
      "Analyzing file 99 of 127: ./data/sound_rt/sound_3085.mp3\n",
      "Analyzing file 100 of 127: ./data/sound_rt/sound_3086.mp3\n",
      "Analyzing file 101 of 127: ./data/sound_rt/sound_3087.mp3\n",
      "Analyzing file 102 of 127: ./data/sound_rt/sound_3088.mp3\n",
      "Analyzing file 103 of 127: ./data/sound_rt/sound_30920.mp3\n",
      "Analyzing file 104 of 127: ./data/sound_rt/sound_31088.mp3\n",
      "Analyzing file 105 of 127: ./data/sound_rt/sound_31089.mp3\n",
      "Analyzing file 106 of 127: ./data/sound_rt/sound_31617.mp3\n",
      "Analyzing file 107 of 127: ./data/sound_rt/sound_31903.mp3\n",
      "Analyzing file 108 of 127: ./data/sound_rt/sound_32339.mp3\n",
      "Analyzing file 109 of 127: ./data/sound_rt/sound_32437.mp3\n",
      "Analyzing file 110 of 127: ./data/sound_rt/sound_32498.mp3\n",
      "Analyzing file 111 of 127: ./data/sound_rt/sound_33655.mp3\n",
      "Analyzing file 112 of 127: ./data/sound_rt/sound_33903.mp3\n",
      "Analyzing file 113 of 127: ./data/sound_rt/sound_33951.mp3\n",
      "Analyzing file 114 of 127: ./data/sound_rt/sound_362.mp3\n",
      "Analyzing file 115 of 127: ./data/sound_rt/sound_424.mp3\n",
      "Analyzing file 116 of 127: ./data/sound_rt/sound_489.mp3\n",
      "Analyzing file 117 of 127: ./data/sound_rt/sound_500.mp3\n",
      "Analyzing file 118 of 127: ./data/sound_rt/sound_515.mp3\n",
      "Analyzing file 119 of 127: ./data/sound_rt/sound_599.mp3\n",
      "Analyzing file 120 of 127: ./data/sound_rt/sound_632.mp3\n",
      "Analyzing file 121 of 127: ./data/sound_rt/sound_649.mp3\n",
      "Analyzing file 122 of 127: ./data/sound_rt/sound_650.mp3\n",
      "Analyzing file 123 of 127: ./data/sound_rt/sound_778.mp3\n",
      "Analyzing file 124 of 127: ./data/sound_rt/sound_791.mp3\n",
      "Analyzing file 125 of 127: ./data/sound_rt/sound_886.mp3\n",
      "Analyzing file 126 of 127: ./data/sound_rt/sound_943.mp3\n",
      "Analyzing file 127 of 127: ./data/sound_rt/sound_961.mp3\n",
      "Feature extraction complexity ratio: 25.9 x realtime\n",
      "Analyzing file 1 of 123: ./data/sound_yf/sound_1296.mp3\n",
      "Analyzing file 2 of 123: ./data/sound_yf/sound_15165.mp3\n",
      "Analyzing file 3 of 123: ./data/sound_yf/sound_15166.mp3\n",
      "Analyzing file 4 of 123: ./data/sound_yf/sound_15901.mp3\n",
      "Analyzing file 5 of 123: ./data/sound_yf/sound_15902.mp3\n",
      "Analyzing file 6 of 123: ./data/sound_yf/sound_16070.mp3\n",
      "Analyzing file 7 of 123: ./data/sound_yf/sound_16204.mp3\n",
      "Analyzing file 8 of 123: ./data/sound_yf/sound_16205.mp3\n",
      "Analyzing file 9 of 123: ./data/sound_yf/sound_16415.mp3\n",
      "Analyzing file 10 of 123: ./data/sound_yf/sound_16724.mp3\n",
      "Analyzing file 11 of 123: ./data/sound_yf/sound_16818.mp3\n",
      "Analyzing file 12 of 123: ./data/sound_yf/sound_16825.mp3\n",
      "Analyzing file 13 of 123: ./data/sound_yf/sound_17166.mp3\n",
      "Analyzing file 14 of 123: ./data/sound_yf/sound_17167.mp3\n",
      "Analyzing file 15 of 123: ./data/sound_yf/sound_17291.mp3\n",
      "Analyzing file 16 of 123: ./data/sound_yf/sound_17331.mp3\n",
      "Analyzing file 17 of 123: ./data/sound_yf/sound_18099.mp3\n",
      "Analyzing file 18 of 123: ./data/sound_yf/sound_18253.mp3\n",
      "Analyzing file 19 of 123: ./data/sound_yf/sound_18305.mp3\n",
      "Analyzing file 20 of 123: ./data/sound_yf/sound_18359.mp3\n",
      "Analyzing file 21 of 123: ./data/sound_yf/sound_18575.mp3\n",
      "Analyzing file 22 of 123: ./data/sound_yf/sound_18659.mp3\n",
      "Analyzing file 23 of 123: ./data/sound_yf/sound_18806.mp3\n",
      "Analyzing file 24 of 123: ./data/sound_yf/sound_18949.mp3\n",
      "Analyzing file 25 of 123: ./data/sound_yf/sound_19066.mp3\n",
      "Analyzing file 26 of 123: ./data/sound_yf/sound_19229.mp3\n",
      "Analyzing file 27 of 123: ./data/sound_yf/sound_19239.mp3\n",
      "Analyzing file 28 of 123: ./data/sound_yf/sound_19514.mp3\n",
      "Analyzing file 29 of 123: ./data/sound_yf/sound_19587.mp3\n",
      "Analyzing file 30 of 123: ./data/sound_yf/sound_19919.mp3\n",
      "Analyzing file 31 of 123: ./data/sound_yf/sound_19986.mp3\n",
      "Analyzing file 32 of 123: ./data/sound_yf/sound_20199.mp3\n",
      "Analyzing file 33 of 123: ./data/sound_yf/sound_20394.mp3\n",
      "Analyzing file 34 of 123: ./data/sound_yf/sound_20395.mp3\n",
      "Analyzing file 35 of 123: ./data/sound_yf/sound_20421.mp3\n",
      "Analyzing file 36 of 123: ./data/sound_yf/sound_20573.mp3\n",
      "Analyzing file 37 of 123: ./data/sound_yf/sound_20574.mp3\n",
      "Analyzing file 38 of 123: ./data/sound_yf/sound_20576.mp3\n",
      "Analyzing file 39 of 123: ./data/sound_yf/sound_20833.mp3\n",
      "Analyzing file 40 of 123: ./data/sound_yf/sound_20858.mp3\n",
      "Analyzing file 41 of 123: ./data/sound_yf/sound_21033.mp3\n",
      "Analyzing file 42 of 123: ./data/sound_yf/sound_21209.mp3\n",
      "Analyzing file 43 of 123: ./data/sound_yf/sound_21356.mp3\n",
      "Analyzing file 44 of 123: ./data/sound_yf/sound_21408.mp3\n",
      "Analyzing file 45 of 123: ./data/sound_yf/sound_21543.mp3\n",
      "Analyzing file 46 of 123: ./data/sound_yf/sound_21999.mp3\n",
      "Analyzing file 47 of 123: ./data/sound_yf/sound_22273.mp3\n",
      "Analyzing file 48 of 123: ./data/sound_yf/sound_22486.mp3\n",
      "Analyzing file 49 of 123: ./data/sound_yf/sound_22738.mp3\n",
      "Analyzing file 50 of 123: ./data/sound_yf/sound_23343.mp3\n",
      "Analyzing file 51 of 123: ./data/sound_yf/sound_23394.mp3\n",
      "Analyzing file 52 of 123: ./data/sound_yf/sound_23421.mp3\n",
      "Analyzing file 53 of 123: ./data/sound_yf/sound_23465.mp3\n",
      "Analyzing file 54 of 123: ./data/sound_yf/sound_23542.mp3\n",
      "Analyzing file 55 of 123: ./data/sound_yf/sound_23876.mp3\n",
      "Analyzing file 56 of 123: ./data/sound_yf/sound_24749.mp3\n",
      "Analyzing file 57 of 123: ./data/sound_yf/sound_25407.mp3\n",
      "Analyzing file 58 of 123: ./data/sound_yf/sound_25506.mp3\n",
      "Analyzing file 59 of 123: ./data/sound_yf/sound_25574.mp3\n",
      "Analyzing file 60 of 123: ./data/sound_yf/sound_25701.mp3\n",
      "Analyzing file 61 of 123: ./data/sound_yf/sound_25905.mp3\n",
      "Analyzing file 62 of 123: ./data/sound_yf/sound_26049.mp3\n",
      "Analyzing file 63 of 123: ./data/sound_yf/sound_26116.mp3\n",
      "Analyzing file 64 of 123: ./data/sound_yf/sound_26789.mp3\n",
      "Analyzing file 65 of 123: ./data/sound_yf/sound_27257.mp3\n",
      "Analyzing file 66 of 123: ./data/sound_yf/sound_27262.mp3\n",
      "Analyzing file 67 of 123: ./data/sound_yf/sound_27365.mp3\n",
      "Analyzing file 68 of 123: ./data/sound_yf/sound_27477.mp3\n",
      "Analyzing file 69 of 123: ./data/sound_yf/sound_27571.mp3\n",
      "Analyzing file 70 of 123: ./data/sound_yf/sound_27992.mp3\n",
      "Analyzing file 71 of 123: ./data/sound_yf/sound_28192.mp3\n",
      "Analyzing file 72 of 123: ./data/sound_yf/sound_28640.mp3\n",
      "Analyzing file 73 of 123: ./data/sound_yf/sound_28641.mp3\n",
      "Analyzing file 74 of 123: ./data/sound_yf/sound_28642.mp3\n",
      "Analyzing file 75 of 123: ./data/sound_yf/sound_28644.mp3\n",
      "Analyzing file 76 of 123: ./data/sound_yf/sound_28645.mp3\n",
      "Analyzing file 77 of 123: ./data/sound_yf/sound_28646.mp3\n",
      "Analyzing file 78 of 123: ./data/sound_yf/sound_28990.mp3\n",
      "Analyzing file 79 of 123: ./data/sound_yf/sound_28996.mp3\n",
      "Analyzing file 80 of 123: ./data/sound_yf/sound_28997.mp3\n",
      "Analyzing file 81 of 123: ./data/sound_yf/sound_28998.mp3\n",
      "Analyzing file 82 of 123: ./data/sound_yf/sound_28999.mp3\n",
      "Analyzing file 83 of 123: ./data/sound_yf/sound_29090.mp3\n",
      "Analyzing file 84 of 123: ./data/sound_yf/sound_29118.mp3\n",
      "Analyzing file 85 of 123: ./data/sound_yf/sound_29163.mp3\n",
      "Analyzing file 86 of 123: ./data/sound_yf/sound_29165.mp3\n",
      "Analyzing file 87 of 123: ./data/sound_yf/sound_29854.mp3\n",
      "Analyzing file 88 of 123: ./data/sound_yf/sound_29855.mp3\n",
      "Analyzing file 89 of 123: ./data/sound_yf/sound_29856.mp3\n",
      "Analyzing file 90 of 123: ./data/sound_yf/sound_29859.mp3\n",
      "Analyzing file 91 of 123: ./data/sound_yf/sound_29860.mp3\n",
      "Analyzing file 92 of 123: ./data/sound_yf/sound_30996.mp3\n",
      "Analyzing file 93 of 123: ./data/sound_yf/sound_3126.mp3\n",
      "Analyzing file 94 of 123: ./data/sound_yf/sound_3127.mp3\n",
      "Analyzing file 95 of 123: ./data/sound_yf/sound_3128.mp3\n",
      "Analyzing file 96 of 123: ./data/sound_yf/sound_3129.mp3\n",
      "Analyzing file 97 of 123: ./data/sound_yf/sound_31303.mp3\n",
      "Analyzing file 98 of 123: ./data/sound_yf/sound_31304.mp3\n",
      "Analyzing file 99 of 123: ./data/sound_yf/sound_31377.mp3\n",
      "Analyzing file 100 of 123: ./data/sound_yf/sound_31437.mp3\n",
      "Analyzing file 101 of 123: ./data/sound_yf/sound_31743.mp3\n",
      "Analyzing file 102 of 123: ./data/sound_yf/sound_31746.mp3\n",
      "Analyzing file 103 of 123: ./data/sound_yf/sound_31765.mp3\n",
      "Analyzing file 104 of 123: ./data/sound_yf/sound_31843.mp3\n",
      "Analyzing file 105 of 123: ./data/sound_yf/sound_31871.mp3\n",
      "Analyzing file 106 of 123: ./data/sound_yf/sound_31878.mp3\n",
      "Analyzing file 107 of 123: ./data/sound_yf/sound_31966.mp3\n",
      "Analyzing file 108 of 123: ./data/sound_yf/sound_32034.mp3\n",
      "Analyzing file 109 of 123: ./data/sound_yf/sound_32188.mp3\n",
      "Analyzing file 110 of 123: ./data/sound_yf/sound_32191.mp3\n",
      "Analyzing file 111 of 123: ./data/sound_yf/sound_32300.mp3\n",
      "Analyzing file 112 of 123: ./data/sound_yf/sound_32703.mp3\n",
      "Analyzing file 113 of 123: ./data/sound_yf/sound_32715.mp3\n",
      "Analyzing file 114 of 123: ./data/sound_yf/sound_32814.mp3\n",
      "Analyzing file 115 of 123: ./data/sound_yf/sound_33015.mp3\n",
      "Analyzing file 116 of 123: ./data/sound_yf/sound_3332.mp3\n",
      "Analyzing file 117 of 123: ./data/sound_yf/sound_3333.mp3\n",
      "Analyzing file 118 of 123: ./data/sound_yf/sound_33835.mp3\n",
      "Analyzing file 119 of 123: ./data/sound_yf/sound_33836.mp3\n",
      "Analyzing file 120 of 123: ./data/sound_yf/sound_34000.mp3\n",
      "Analyzing file 121 of 123: ./data/sound_yf/sound_552.mp3\n",
      "Analyzing file 122 of 123: ./data/sound_yf/sound_730.mp3\n",
      "Analyzing file 123 of 123: ./data/sound_yf/sound_945.mp3\n",
      "Feature extraction complexity ratio: 23.9 x realtime\n",
      "(127, 138) (123, 138)\n"
     ]
    }
   ],
   "source": [
    "dirs = [\"./data/sound_rt\", \"./data/sound_yf\"] \n",
    "class_names = [rt, yf] \n",
    "m_win, m_step, s_win, s_step = 2, 2, 0.4, 0.4\n",
    "\n",
    "features = [] \n",
    "for d in dirs:\n",
    "    f, files, fn = mTF.directory_feature_extraction(d, m_win, m_step, \n",
    "                                                   s_win, s_step) \n",
    "    features.append(f)\n",
    "\n",
    "print(features[0].shape, features[1].shape)\n",
    "    \n"
   ]
  },
  {
   "cell_type": "code",
   "execution_count": 21,
   "metadata": {},
   "outputs": [
    {
     "data": {
      "text/plain": [
       "['zcr_mean',\n",
       " 'energy_mean',\n",
       " 'energy_entropy_mean',\n",
       " 'spectral_centroid_mean',\n",
       " 'spectral_spread_mean',\n",
       " 'spectral_entropy_mean',\n",
       " 'spectral_flux_mean',\n",
       " 'spectral_rolloff_mean',\n",
       " 'mfcc_1_mean',\n",
       " 'mfcc_2_mean',\n",
       " 'mfcc_3_mean',\n",
       " 'mfcc_4_mean',\n",
       " 'mfcc_5_mean',\n",
       " 'mfcc_6_mean',\n",
       " 'mfcc_7_mean',\n",
       " 'mfcc_8_mean',\n",
       " 'mfcc_9_mean',\n",
       " 'mfcc_10_mean',\n",
       " 'mfcc_11_mean',\n",
       " 'mfcc_12_mean',\n",
       " 'mfcc_13_mean',\n",
       " 'chroma_1_mean',\n",
       " 'chroma_2_mean',\n",
       " 'chroma_3_mean',\n",
       " 'chroma_4_mean',\n",
       " 'chroma_5_mean',\n",
       " 'chroma_6_mean',\n",
       " 'chroma_7_mean',\n",
       " 'chroma_8_mean',\n",
       " 'chroma_9_mean',\n",
       " 'chroma_10_mean',\n",
       " 'chroma_11_mean',\n",
       " 'chroma_12_mean',\n",
       " 'chroma_std_mean',\n",
       " 'delta zcr_mean',\n",
       " 'delta energy_mean',\n",
       " 'delta energy_entropy_mean',\n",
       " 'delta spectral_centroid_mean',\n",
       " 'delta spectral_spread_mean',\n",
       " 'delta spectral_entropy_mean',\n",
       " 'delta spectral_flux_mean',\n",
       " 'delta spectral_rolloff_mean',\n",
       " 'delta mfcc_1_mean',\n",
       " 'delta mfcc_2_mean',\n",
       " 'delta mfcc_3_mean',\n",
       " 'delta mfcc_4_mean',\n",
       " 'delta mfcc_5_mean',\n",
       " 'delta mfcc_6_mean',\n",
       " 'delta mfcc_7_mean',\n",
       " 'delta mfcc_8_mean',\n",
       " 'delta mfcc_9_mean',\n",
       " 'delta mfcc_10_mean',\n",
       " 'delta mfcc_11_mean',\n",
       " 'delta mfcc_12_mean',\n",
       " 'delta mfcc_13_mean',\n",
       " 'delta chroma_1_mean',\n",
       " 'delta chroma_2_mean',\n",
       " 'delta chroma_3_mean',\n",
       " 'delta chroma_4_mean',\n",
       " 'delta chroma_5_mean',\n",
       " 'delta chroma_6_mean',\n",
       " 'delta chroma_7_mean',\n",
       " 'delta chroma_8_mean',\n",
       " 'delta chroma_9_mean',\n",
       " 'delta chroma_10_mean',\n",
       " 'delta chroma_11_mean',\n",
       " 'delta chroma_12_mean',\n",
       " 'delta chroma_std_mean',\n",
       " 'zcr_std',\n",
       " 'energy_std',\n",
       " 'energy_entropy_std',\n",
       " 'spectral_centroid_std',\n",
       " 'spectral_spread_std',\n",
       " 'spectral_entropy_std',\n",
       " 'spectral_flux_std',\n",
       " 'spectral_rolloff_std',\n",
       " 'mfcc_1_std',\n",
       " 'mfcc_2_std',\n",
       " 'mfcc_3_std',\n",
       " 'mfcc_4_std',\n",
       " 'mfcc_5_std',\n",
       " 'mfcc_6_std',\n",
       " 'mfcc_7_std',\n",
       " 'mfcc_8_std',\n",
       " 'mfcc_9_std',\n",
       " 'mfcc_10_std',\n",
       " 'mfcc_11_std',\n",
       " 'mfcc_12_std',\n",
       " 'mfcc_13_std',\n",
       " 'chroma_1_std',\n",
       " 'chroma_2_std',\n",
       " 'chroma_3_std',\n",
       " 'chroma_4_std',\n",
       " 'chroma_5_std',\n",
       " 'chroma_6_std',\n",
       " 'chroma_7_std',\n",
       " 'chroma_8_std',\n",
       " 'chroma_9_std',\n",
       " 'chroma_10_std',\n",
       " 'chroma_11_std',\n",
       " 'chroma_12_std',\n",
       " 'chroma_std_std',\n",
       " 'delta zcr_std',\n",
       " 'delta energy_std',\n",
       " 'delta energy_entropy_std',\n",
       " 'delta spectral_centroid_std',\n",
       " 'delta spectral_spread_std',\n",
       " 'delta spectral_entropy_std',\n",
       " 'delta spectral_flux_std',\n",
       " 'delta spectral_rolloff_std',\n",
       " 'delta mfcc_1_std',\n",
       " 'delta mfcc_2_std',\n",
       " 'delta mfcc_3_std',\n",
       " 'delta mfcc_4_std',\n",
       " 'delta mfcc_5_std',\n",
       " 'delta mfcc_6_std',\n",
       " 'delta mfcc_7_std',\n",
       " 'delta mfcc_8_std',\n",
       " 'delta mfcc_9_std',\n",
       " 'delta mfcc_10_std',\n",
       " 'delta mfcc_11_std',\n",
       " 'delta mfcc_12_std',\n",
       " 'delta mfcc_13_std',\n",
       " 'delta chroma_1_std',\n",
       " 'delta chroma_2_std',\n",
       " 'delta chroma_3_std',\n",
       " 'delta chroma_4_std',\n",
       " 'delta chroma_5_std',\n",
       " 'delta chroma_6_std',\n",
       " 'delta chroma_7_std',\n",
       " 'delta chroma_8_std',\n",
       " 'delta chroma_9_std',\n",
       " 'delta chroma_10_std',\n",
       " 'delta chroma_11_std',\n",
       " 'delta chroma_12_std',\n",
       " 'delta chroma_std_std',\n",
       " 'bpm',\n",
       " 'ratio']"
      ]
     },
     "execution_count": 21,
     "metadata": {},
     "output_type": "execute_result"
    }
   ],
   "source": [
    "fn"
   ]
  },
  {
   "cell_type": "code",
   "execution_count": null,
   "metadata": {},
   "outputs": [],
   "source": [
    "features"
   ]
  },
  {
   "cell_type": "code",
   "execution_count": 23,
   "metadata": {},
   "outputs": [],
   "source": [
    "with open(os.path.join('./data', f'features_{m_win}_{m_step}_{s_win}_{s_step}'.replace('.','_') + '.pkt'), mode='wb') as pickle_file:\n",
    "    pickle.dump(features, pickle_file)\n",
    "pickle_file.close()"
   ]
  },
  {
   "cell_type": "code",
   "execution_count": 26,
   "metadata": {},
   "outputs": [
    {
     "data": {
      "application/vnd.plotly.v1+json": {
       "config": {
        "linkText": "Export to plot.ly",
        "plotlyServerURL": "https://plot.ly",
        "showLink": false
       },
       "data": [
        {
         "mode": "markers",
         "name": "Rufous-bellied Thrush",
         "type": "scatter",
         "x": [
          0.02231337394110572,
          0.009989196044056282,
          0.013982876655227783,
          0.014579972923952668,
          0.0005399128476086442,
          0.022516781062267874,
          0.002278439028726617,
          0.006741506172292144,
          0.0024150597763377083,
          0.0011360881777791904,
          0.007072949152364192,
          0.016143155694233673,
          0.009437442590064835,
          0.006320360553907301,
          0.027947531847181066,
          0.004342800272259291,
          0.005538342744617407,
          0.0034034222997259434,
          0.015594124411505386,
          0.0010470490297698793,
          0.018222696053858144,
          0.017849774414380824,
          0.025554583012770485,
          0.011587918870466694,
          0.008781854251898133,
          0.006034875315915925,
          0.002705282406522013,
          0.007733550476167217,
          0.006242767730523917,
          0.009005714282345716,
          0.007701913110003792,
          0.0032762396067339025,
          0.02183938154955891,
          0.00985761145190475,
          0.008574741001471074,
          0.01224823332210795,
          0.016966616129514285,
          0.011804191634334105,
          0.014251942567363859,
          0.01926890596061026,
          0.011217983047037862,
          0.012266430708449355,
          0.003414781152317739,
          0.004473020332365991,
          0.004460716574653249,
          0.015069754477638144,
          0.0019491905410104426,
          0.0005986390696712722,
          0.014292071132440524,
          0.00019549901464340245,
          0.004854498392683477,
          0.004349013909683846,
          0.02813257239884315,
          0.006498917385959397,
          0.0004582341421651978,
          0.008458170617923115,
          0.009229206593040004,
          0.03175849872310546,
          0.034120693850343754,
          0.010461704909560299,
          0.03374823092447901,
          0.017542161502607984,
          0.0011260160803910034,
          0.015187601368325608,
          0.009375121351588684,
          0.01150191046653665,
          0.021074718641967433,
          0.032420428804510876,
          0.008303225990932339,
          0.009844999798643025,
          0.017034150036719885,
          0.01255214684512668,
          0.008057288921151212,
          0.016281206539038057,
          0.02174934398883066,
          0.01929277699499886,
          0.010176604367505554,
          0.009726087071954052,
          0.010397899193142724,
          0.014000813084209907,
          0.021561880419339267,
          0.005487178357192906,
          0.008287026867707261,
          0.01138910299582959,
          0.02029224884509783,
          0.013071921990807171,
          0.00686253394683826,
          0.005532417405503881,
          0.008856260653582674,
          0.016740164487326643,
          0.015839557779402602,
          0.013143047335343086,
          0.01904616483829054,
          0.005078137903017956,
          0.009811793446324405,
          0.013395122622246677,
          0.02015057720444954,
          0.010271709515737191,
          0.0196852344674414,
          0.004469180095785407,
          0.006792446994504144,
          0.010139878590563528,
          0.015445319944821212,
          0.04059932804137063,
          0.0020838291180805663,
          0.00472163255317714,
          0.02788977263134679,
          0.020006387926911708,
          0.010520757414845107,
          0.012831637660164789,
          0.0003534109509108499,
          0.008988314345563462,
          0.003969403277406507,
          0.013528118591879764,
          0.003574790899285522,
          0.007921304230283168,
          0.0012942043907309463,
          0.026558607762611045,
          0.006125235576968474,
          0.011711618295083118,
          0.03053028465246822,
          0.025012432014606723,
          0.014049929833166724,
          0.007503624145723325,
          0.005693228940436318,
          0.003714820207412698,
          0.0032892390141263453
         ],
         "y": [
          0.03139683814096848,
          0.0007410502133053519,
          -0.001434924873757723,
          -0.014414536554723478,
          0.0008863315918193399,
          -0.007110016994111598,
          0.008259002938612422,
          0.006926269861562157,
          -0.0017069971551104733,
          0.0011711267390037364,
          -0.005056385010543803,
          0.010647493875738566,
          0.001429528631590995,
          0.05301529054472635,
          0.009141331590675875,
          0.0013172661778425156,
          -0.011548138959052198,
          -0.0015135119512845342,
          -0.008920812564303127,
          0.03861944947092607,
          0.003804909561542498,
          -0.003463526993722931,
          -0.000855626453178714,
          0.0028006866584599412,
          -0.002640890773985317,
          0.0012738130323817643,
          0.002050930834302627,
          -0.012362010631560803,
          0.006899508876115821,
          0.03459094982578786,
          0.000990839077868184,
          -0.001999941202001677,
          0.0010805999436922817,
          0.001954451040166387,
          0.00137797345646511,
          -0.00014672243671323085,
          0.000612215621816122,
          -0.0005775650826320713,
          0.0012847103445274653,
          0.002925064291822361,
          -0.0023703029342695752,
          -0.007875792181456351,
          -0.00016751328896400845,
          -0.00035901363762204315,
          -0.0051684263574932054,
          0.0161842920918385,
          0.0032504877512453765,
          0.010190374208994577,
          -0.000006249425714950309,
          0.006264949152484882,
          0.013041185997903796,
          -0.0025373208462847576,
          0.0024908082216553973,
          0.0026037332539351073,
          -0.05200536617275571,
          0.015271575851370551,
          0.0017592881442452949,
          -0.009897499006230664,
          0.002533886947566732,
          0.0001766422360070002,
          0.0021906190831426447,
          -0.00046209460284424937,
          0.0012406407682823792,
          0.0007927590620510652,
          0.0022044831515030034,
          0.009738365657523734,
          0.0007623946780475945,
          0.0034792904298410685,
          0.00031857867546389583,
          0.00020250950753697943,
          0.005716126018813142,
          -0.0013520018499025234,
          0.0072004248501092065,
          0.0004646653323730984,
          0.0015688215017452846,
          0.0012883819985463007,
          0.001900499785424809,
          0.0017819073626194424,
          0.003480341341099619,
          0.0019426529971084978,
          0.0035893974691363316,
          -0.0014964886009783478,
          0.004593869511281804,
          -0.0005857422072895946,
          -0.00028764941385120034,
          0.0023808436593965266,
          0.0035297681158638003,
          -0.0028460358642929903,
          0.013905226735874777,
          0.022409806654081807,
          -0.0069951261808587585,
          0.0017364412340786443,
          0.007340840826562599,
          -0.0007031888220184079,
          -0.013190625607079369,
          -0.007049012705874545,
          -0.001271283235239913,
          0.0009588015123439583,
          0.012380251484042277,
          0.004041488245315849,
          0.007730254075808686,
          0.0017759957529587674,
          0.003524539705981393,
          -0.001364344243481552,
          -0.014901876582019703,
          -0.001627815115861605,
          0.010620539112185277,
          -0.006331330746136879,
          -0.00011829839329862991,
          0.0005980377744632564,
          -0.004090599204136109,
          0.0011621010229958143,
          0.013265949499505736,
          -0.005575896815871459,
          0.00013052882088690747,
          -0.00016603015560646771,
          -0.0016823826147230642,
          -0.015227363049745727,
          -0.0003191947586359174,
          0.004079197065687895,
          0.015721227205888765,
          -0.02236683065249903,
          0.0017503376829358698,
          0.0027997002813615703,
          0.00004019647666645206,
          -0.013928378078644613,
          0.004247197691334954
         ]
        },
        {
         "mode": "markers",
         "name": "Yellow-olive Flatbill",
         "type": "scatter",
         "x": [
          0.0013363008018925121,
          0.005356276496465074,
          0.0055486309235204655,
          0.006462976207961072,
          0.0031366867301096304,
          0.0010355881204070075,
          0.0011565586948808616,
          0.0016547850410296785,
          0.0020467355030704456,
          0.008040795550499738,
          0.000680884495564711,
          0.0029528347535218266,
          0.003514090836480558,
          0.002475642941428574,
          0.00487977438173979,
          0.0013829427118148012,
          0.0073476744086122215,
          0.0011029053622155607,
          0.0022073360144573857,
          0.0013971409178000981,
          0.0009924426792937366,
          0.0022858088382811097,
          0.003327493571110969,
          0.006438364658877314,
          0.01021962527440515,
          0.002694715710741694,
          0.00125225838994405,
          0.0027368177466073657,
          0.001000568258029806,
          0.0007278494579293244,
          0.0015429676960485759,
          0.0008628899462853824,
          0.0014210411391116643,
          0.001484546068058881,
          0.006424279887446693,
          0.002232117737710016,
          0.0008490495646973331,
          0.006086643073984303,
          0.0035324730379789654,
          0.0037776662044981396,
          0.002734901158616725,
          0.0030375056811865657,
          0.011022855528265799,
          0.006416553803074632,
          0.0016276808347014705,
          0.002272624307065407,
          0.004963664204528659,
          0.0023603676048909307,
          0.005110366348421902,
          0.0030316822681144802,
          0.0018329317266447746,
          0.010163588892806323,
          0.005956339465192736,
          0.001231754452969065,
          0.002459557015580403,
          0.002511702475376461,
          0.002416110867152424,
          0.0008659056780786734,
          0.0036464942747931705,
          0.0011702563859899802,
          0.0013758747087741568,
          0.0011095113431257271,
          0.002048571629529975,
          0.001062726075616104,
          0.0013634390222187702,
          0.004578467271556242,
          0.0011723138640480336,
          0.0026437696408652127,
          0.001018856995986406,
          0.005095448204231697,
          0.002186720669365382,
          0.0008325850344835662,
          0.0029897655868946545,
          0.0009341733798060888,
          0.0022816733905410393,
          0.03508601165800697,
          0.005482331141770354,
          0.014697484538686042,
          0.007011904288107125,
          0.0006567999672931035,
          0.0032142754606487595,
          0.004665782422319675,
          0.013629397691853425,
          0.00270213799317307,
          0.0007570948487835521,
          0.0029029511587758006,
          0.020671141894915198,
          0.003827312374410075,
          0.007679882983588387,
          0.004943524071215932,
          0.005110912912722846,
          0.007605891193629485,
          0.001307216733105839,
          0.0013368048976693796,
          0.0025414085320095313,
          0.0031363481132660282,
          0.00689332030783411,
          0.009745320866439006,
          0.0008107017452675927,
          0.003079207699327283,
          0.0013305382986882898,
          0.015113990717285468,
          0.0025823277946065634,
          0.015424862353096515,
          0.006410225943591241,
          0.01073228952981156,
          0.0011156095349021448,
          0.026305541410440125,
          0.08449720666287586,
          0.0026901438393298863,
          0.004580975425923103,
          0.0013229220366598388,
          0.00015886210957796368,
          0.006742511765368543,
          0.00261396999692442,
          0.006870069136289151,
          0.008137941108044479,
          0.003079207699327283,
          0.0015767033578611492,
          0.009370499671247621,
          0.013665934848281188,
          0.014271228569857864,
          0.0022481980591214307
         ],
         "y": [
          -0.0009634561486326241,
          -0.0007441158966400283,
          0.00008085038786521216,
          -0.0012548403672219624,
          -0.0009806401993159956,
          0.0006414371036458967,
          0.0006669118590226134,
          -0.000017401693930981648,
          -0.0029160733288203715,
          -0.010394264958889517,
          -0.0007219126418412086,
          -0.007072335310875353,
          -0.00030905386928429233,
          0.0019000220759160067,
          -0.014532511469910976,
          -0.0006898400048037099,
          -0.00779807147904418,
          0.00020121872929150034,
          -0.0005500235034900567,
          -0.0005408287929152305,
          -0.0028964740101265515,
          -0.0010328690729791863,
          0.0022358780683914147,
          0.0057805182489371176,
          -0.03920654062748689,
          -0.013079200051713416,
          0.0017298509767595207,
          -0.005558658816259296,
          0.004381897584676519,
          0.00022217958145253367,
          0.00004943374954072471,
          -0.0008258207197689982,
          -0.004120963766677649,
          0.0018137286220622007,
          0.002963539134564096,
          -0.0009718155021251776,
          -0.007084911701033732,
          -0.0009384885462990313,
          -0.0024658863984658073,
          -0.02319779636431768,
          -0.0013067885131572412,
          -0.0001145486842144222,
          0.0003888091881708936,
          0.0015014113586366007,
          0.006746451100172718,
          -0.0007720018963335479,
          0.0137979361729754,
          -0.001323789890039116,
          -0.004747872845747891,
          -0.001979377067591264,
          0.03382277944089186,
          0.024739045010703373,
          -0.005457980517304173,
          0.0272731319029868,
          0.00042036201090233304,
          -0.0020357621376408813,
          0.00019557001083798546,
          -0.01035965233797385,
          -0.0033898139583213123,
          -0.0015715557557440954,
          -0.008736970249416772,
          0.0004386860912511466,
          -0.003281922590192824,
          -0.000006611444986990913,
          0.015002761031624012,
          -0.012915781252196501,
          0.002778473998546573,
          0.0035027305392329243,
          -0.00019182340094506958,
          0.004371467992288239,
          0.0024509535989945047,
          -0.017827784787615895,
          0.00042908151839821617,
          0.0012896194161430084,
          0.010907627905917969,
          -0.012332740382792797,
          0.0070108521525862584,
          -0.004971325345030815,
          0.00716885944819684,
          0.002256351443311663,
          0.018453899263059056,
          0.014117853308812961,
          -0.00030544926249453485,
          -0.0009793526773753786,
          -0.002296230887858783,
          -0.0009597600048306279,
          -0.01037656637712406,
          0.0015733699480443408,
          -0.002800153208464674,
          -0.0011238413741022888,
          0.0019069628505623333,
          0.0012097529416849908,
          0.011280799943173707,
          0.0006324729407051546,
          0.0014299851739697045,
          0.00016872425936367394,
          0.0025915273631102755,
          -0.006026555433381004,
          0.0037214978574354397,
          0.0010883294051567223,
          -0.0006636576068779361,
          -0.0033474530079673215,
          0.011974500503591957,
          -0.001138656437003692,
          -0.00018721340861831948,
          -0.006557496823289693,
          0.002240471284862386,
          0.007239941698827221,
          0.01984641104646442,
          0.0036653323576627387,
          -0.003207703124499016,
          -0.007034358656454088,
          0.0006707237956147981,
          0.0021003113334524563,
          -0.00557653894917055,
          -0.004301119448069369,
          0.005924065427765992,
          0.0010883294051567223,
          -0.00023709334581299097,
          0.00008769682127937641,
          -0.0020281517399795505,
          -0.020905032091153714,
          0.0003621632775117997
         ]
        }
       ],
       "layout": {
        "template": {
         "data": {
          "bar": [
           {
            "error_x": {
             "color": "#2a3f5f"
            },
            "error_y": {
             "color": "#2a3f5f"
            },
            "marker": {
             "line": {
              "color": "#E5ECF6",
              "width": 0.5
             },
             "pattern": {
              "fillmode": "overlay",
              "size": 10,
              "solidity": 0.2
             }
            },
            "type": "bar"
           }
          ],
          "barpolar": [
           {
            "marker": {
             "line": {
              "color": "#E5ECF6",
              "width": 0.5
             },
             "pattern": {
              "fillmode": "overlay",
              "size": 10,
              "solidity": 0.2
             }
            },
            "type": "barpolar"
           }
          ],
          "carpet": [
           {
            "aaxis": {
             "endlinecolor": "#2a3f5f",
             "gridcolor": "white",
             "linecolor": "white",
             "minorgridcolor": "white",
             "startlinecolor": "#2a3f5f"
            },
            "baxis": {
             "endlinecolor": "#2a3f5f",
             "gridcolor": "white",
             "linecolor": "white",
             "minorgridcolor": "white",
             "startlinecolor": "#2a3f5f"
            },
            "type": "carpet"
           }
          ],
          "choropleth": [
           {
            "colorbar": {
             "outlinewidth": 0,
             "ticks": ""
            },
            "type": "choropleth"
           }
          ],
          "contour": [
           {
            "colorbar": {
             "outlinewidth": 0,
             "ticks": ""
            },
            "colorscale": [
             [
              0,
              "#0d0887"
             ],
             [
              0.1111111111111111,
              "#46039f"
             ],
             [
              0.2222222222222222,
              "#7201a8"
             ],
             [
              0.3333333333333333,
              "#9c179e"
             ],
             [
              0.4444444444444444,
              "#bd3786"
             ],
             [
              0.5555555555555556,
              "#d8576b"
             ],
             [
              0.6666666666666666,
              "#ed7953"
             ],
             [
              0.7777777777777778,
              "#fb9f3a"
             ],
             [
              0.8888888888888888,
              "#fdca26"
             ],
             [
              1,
              "#f0f921"
             ]
            ],
            "type": "contour"
           }
          ],
          "contourcarpet": [
           {
            "colorbar": {
             "outlinewidth": 0,
             "ticks": ""
            },
            "type": "contourcarpet"
           }
          ],
          "heatmap": [
           {
            "colorbar": {
             "outlinewidth": 0,
             "ticks": ""
            },
            "colorscale": [
             [
              0,
              "#0d0887"
             ],
             [
              0.1111111111111111,
              "#46039f"
             ],
             [
              0.2222222222222222,
              "#7201a8"
             ],
             [
              0.3333333333333333,
              "#9c179e"
             ],
             [
              0.4444444444444444,
              "#bd3786"
             ],
             [
              0.5555555555555556,
              "#d8576b"
             ],
             [
              0.6666666666666666,
              "#ed7953"
             ],
             [
              0.7777777777777778,
              "#fb9f3a"
             ],
             [
              0.8888888888888888,
              "#fdca26"
             ],
             [
              1,
              "#f0f921"
             ]
            ],
            "type": "heatmap"
           }
          ],
          "heatmapgl": [
           {
            "colorbar": {
             "outlinewidth": 0,
             "ticks": ""
            },
            "colorscale": [
             [
              0,
              "#0d0887"
             ],
             [
              0.1111111111111111,
              "#46039f"
             ],
             [
              0.2222222222222222,
              "#7201a8"
             ],
             [
              0.3333333333333333,
              "#9c179e"
             ],
             [
              0.4444444444444444,
              "#bd3786"
             ],
             [
              0.5555555555555556,
              "#d8576b"
             ],
             [
              0.6666666666666666,
              "#ed7953"
             ],
             [
              0.7777777777777778,
              "#fb9f3a"
             ],
             [
              0.8888888888888888,
              "#fdca26"
             ],
             [
              1,
              "#f0f921"
             ]
            ],
            "type": "heatmapgl"
           }
          ],
          "histogram": [
           {
            "marker": {
             "pattern": {
              "fillmode": "overlay",
              "size": 10,
              "solidity": 0.2
             }
            },
            "type": "histogram"
           }
          ],
          "histogram2d": [
           {
            "colorbar": {
             "outlinewidth": 0,
             "ticks": ""
            },
            "colorscale": [
             [
              0,
              "#0d0887"
             ],
             [
              0.1111111111111111,
              "#46039f"
             ],
             [
              0.2222222222222222,
              "#7201a8"
             ],
             [
              0.3333333333333333,
              "#9c179e"
             ],
             [
              0.4444444444444444,
              "#bd3786"
             ],
             [
              0.5555555555555556,
              "#d8576b"
             ],
             [
              0.6666666666666666,
              "#ed7953"
             ],
             [
              0.7777777777777778,
              "#fb9f3a"
             ],
             [
              0.8888888888888888,
              "#fdca26"
             ],
             [
              1,
              "#f0f921"
             ]
            ],
            "type": "histogram2d"
           }
          ],
          "histogram2dcontour": [
           {
            "colorbar": {
             "outlinewidth": 0,
             "ticks": ""
            },
            "colorscale": [
             [
              0,
              "#0d0887"
             ],
             [
              0.1111111111111111,
              "#46039f"
             ],
             [
              0.2222222222222222,
              "#7201a8"
             ],
             [
              0.3333333333333333,
              "#9c179e"
             ],
             [
              0.4444444444444444,
              "#bd3786"
             ],
             [
              0.5555555555555556,
              "#d8576b"
             ],
             [
              0.6666666666666666,
              "#ed7953"
             ],
             [
              0.7777777777777778,
              "#fb9f3a"
             ],
             [
              0.8888888888888888,
              "#fdca26"
             ],
             [
              1,
              "#f0f921"
             ]
            ],
            "type": "histogram2dcontour"
           }
          ],
          "mesh3d": [
           {
            "colorbar": {
             "outlinewidth": 0,
             "ticks": ""
            },
            "type": "mesh3d"
           }
          ],
          "parcoords": [
           {
            "line": {
             "colorbar": {
              "outlinewidth": 0,
              "ticks": ""
             }
            },
            "type": "parcoords"
           }
          ],
          "pie": [
           {
            "automargin": true,
            "type": "pie"
           }
          ],
          "scatter": [
           {
            "marker": {
             "colorbar": {
              "outlinewidth": 0,
              "ticks": ""
             }
            },
            "type": "scatter"
           }
          ],
          "scatter3d": [
           {
            "line": {
             "colorbar": {
              "outlinewidth": 0,
              "ticks": ""
             }
            },
            "marker": {
             "colorbar": {
              "outlinewidth": 0,
              "ticks": ""
             }
            },
            "type": "scatter3d"
           }
          ],
          "scattercarpet": [
           {
            "marker": {
             "colorbar": {
              "outlinewidth": 0,
              "ticks": ""
             }
            },
            "type": "scattercarpet"
           }
          ],
          "scattergeo": [
           {
            "marker": {
             "colorbar": {
              "outlinewidth": 0,
              "ticks": ""
             }
            },
            "type": "scattergeo"
           }
          ],
          "scattergl": [
           {
            "marker": {
             "colorbar": {
              "outlinewidth": 0,
              "ticks": ""
             }
            },
            "type": "scattergl"
           }
          ],
          "scattermapbox": [
           {
            "marker": {
             "colorbar": {
              "outlinewidth": 0,
              "ticks": ""
             }
            },
            "type": "scattermapbox"
           }
          ],
          "scatterpolar": [
           {
            "marker": {
             "colorbar": {
              "outlinewidth": 0,
              "ticks": ""
             }
            },
            "type": "scatterpolar"
           }
          ],
          "scatterpolargl": [
           {
            "marker": {
             "colorbar": {
              "outlinewidth": 0,
              "ticks": ""
             }
            },
            "type": "scatterpolargl"
           }
          ],
          "scatterternary": [
           {
            "marker": {
             "colorbar": {
              "outlinewidth": 0,
              "ticks": ""
             }
            },
            "type": "scatterternary"
           }
          ],
          "surface": [
           {
            "colorbar": {
             "outlinewidth": 0,
             "ticks": ""
            },
            "colorscale": [
             [
              0,
              "#0d0887"
             ],
             [
              0.1111111111111111,
              "#46039f"
             ],
             [
              0.2222222222222222,
              "#7201a8"
             ],
             [
              0.3333333333333333,
              "#9c179e"
             ],
             [
              0.4444444444444444,
              "#bd3786"
             ],
             [
              0.5555555555555556,
              "#d8576b"
             ],
             [
              0.6666666666666666,
              "#ed7953"
             ],
             [
              0.7777777777777778,
              "#fb9f3a"
             ],
             [
              0.8888888888888888,
              "#fdca26"
             ],
             [
              1,
              "#f0f921"
             ]
            ],
            "type": "surface"
           }
          ],
          "table": [
           {
            "cells": {
             "fill": {
              "color": "#EBF0F8"
             },
             "line": {
              "color": "white"
             }
            },
            "header": {
             "fill": {
              "color": "#C8D4E3"
             },
             "line": {
              "color": "white"
             }
            },
            "type": "table"
           }
          ]
         },
         "layout": {
          "annotationdefaults": {
           "arrowcolor": "#2a3f5f",
           "arrowhead": 0,
           "arrowwidth": 1
          },
          "autotypenumbers": "strict",
          "coloraxis": {
           "colorbar": {
            "outlinewidth": 0,
            "ticks": ""
           }
          },
          "colorscale": {
           "diverging": [
            [
             0,
             "#8e0152"
            ],
            [
             0.1,
             "#c51b7d"
            ],
            [
             0.2,
             "#de77ae"
            ],
            [
             0.3,
             "#f1b6da"
            ],
            [
             0.4,
             "#fde0ef"
            ],
            [
             0.5,
             "#f7f7f7"
            ],
            [
             0.6,
             "#e6f5d0"
            ],
            [
             0.7,
             "#b8e186"
            ],
            [
             0.8,
             "#7fbc41"
            ],
            [
             0.9,
             "#4d9221"
            ],
            [
             1,
             "#276419"
            ]
           ],
           "sequential": [
            [
             0,
             "#0d0887"
            ],
            [
             0.1111111111111111,
             "#46039f"
            ],
            [
             0.2222222222222222,
             "#7201a8"
            ],
            [
             0.3333333333333333,
             "#9c179e"
            ],
            [
             0.4444444444444444,
             "#bd3786"
            ],
            [
             0.5555555555555556,
             "#d8576b"
            ],
            [
             0.6666666666666666,
             "#ed7953"
            ],
            [
             0.7777777777777778,
             "#fb9f3a"
            ],
            [
             0.8888888888888888,
             "#fdca26"
            ],
            [
             1,
             "#f0f921"
            ]
           ],
           "sequentialminus": [
            [
             0,
             "#0d0887"
            ],
            [
             0.1111111111111111,
             "#46039f"
            ],
            [
             0.2222222222222222,
             "#7201a8"
            ],
            [
             0.3333333333333333,
             "#9c179e"
            ],
            [
             0.4444444444444444,
             "#bd3786"
            ],
            [
             0.5555555555555556,
             "#d8576b"
            ],
            [
             0.6666666666666666,
             "#ed7953"
            ],
            [
             0.7777777777777778,
             "#fb9f3a"
            ],
            [
             0.8888888888888888,
             "#fdca26"
            ],
            [
             1,
             "#f0f921"
            ]
           ]
          },
          "colorway": [
           "#636efa",
           "#EF553B",
           "#00cc96",
           "#ab63fa",
           "#FFA15A",
           "#19d3f3",
           "#FF6692",
           "#B6E880",
           "#FF97FF",
           "#FECB52"
          ],
          "font": {
           "color": "#2a3f5f"
          },
          "geo": {
           "bgcolor": "white",
           "lakecolor": "white",
           "landcolor": "#E5ECF6",
           "showlakes": true,
           "showland": true,
           "subunitcolor": "white"
          },
          "hoverlabel": {
           "align": "left"
          },
          "hovermode": "closest",
          "mapbox": {
           "style": "light"
          },
          "paper_bgcolor": "white",
          "plot_bgcolor": "#E5ECF6",
          "polar": {
           "angularaxis": {
            "gridcolor": "white",
            "linecolor": "white",
            "ticks": ""
           },
           "bgcolor": "#E5ECF6",
           "radialaxis": {
            "gridcolor": "white",
            "linecolor": "white",
            "ticks": ""
           }
          },
          "scene": {
           "xaxis": {
            "backgroundcolor": "#E5ECF6",
            "gridcolor": "white",
            "gridwidth": 2,
            "linecolor": "white",
            "showbackground": true,
            "ticks": "",
            "zerolinecolor": "white"
           },
           "yaxis": {
            "backgroundcolor": "#E5ECF6",
            "gridcolor": "white",
            "gridwidth": 2,
            "linecolor": "white",
            "showbackground": true,
            "ticks": "",
            "zerolinecolor": "white"
           },
           "zaxis": {
            "backgroundcolor": "#E5ECF6",
            "gridcolor": "white",
            "gridwidth": 2,
            "linecolor": "white",
            "showbackground": true,
            "ticks": "",
            "zerolinecolor": "white"
           }
          },
          "shapedefaults": {
           "line": {
            "color": "#2a3f5f"
           }
          },
          "ternary": {
           "aaxis": {
            "gridcolor": "white",
            "linecolor": "white",
            "ticks": ""
           },
           "baxis": {
            "gridcolor": "white",
            "linecolor": "white",
            "ticks": ""
           },
           "bgcolor": "#E5ECF6",
           "caxis": {
            "gridcolor": "white",
            "linecolor": "white",
            "ticks": ""
           }
          },
          "title": {
           "x": 0.05
          },
          "xaxis": {
           "automargin": true,
           "gridcolor": "white",
           "linecolor": "white",
           "ticks": "",
           "title": {
            "standoff": 15
           },
           "zerolinecolor": "white",
           "zerolinewidth": 2
          },
          "yaxis": {
           "automargin": true,
           "gridcolor": "white",
           "linecolor": "white",
           "ticks": "",
           "title": {
            "standoff": 15
           },
           "zerolinecolor": "white",
           "zerolinewidth": 2
          }
         }
        },
        "xaxis": {
         "title": {
          "text": "energy_mean"
         }
        },
        "yaxis": {
         "title": {
          "text": "delta mfcc_7_mean"
         }
        }
       }
      }
     },
     "metadata": {},
     "output_type": "display_data"
    }
   ],
   "source": [
    "feature1 = 'energy_mean'\n",
    "feature2 = 'delta mfcc_7_mean'\n",
    "f1 = np.array(\n",
    "    [features[0][:, fn.index(feature1)], features[0][:, fn.index(feature2)]]\n",
    ")\n",
    "f2 = np.array(\n",
    "    [features[1][:, fn.index(feature1)], features[1][:, fn.index(feature2)]]\n",
    ")\n",
    "# plot 2D features\n",
    "plots = [\n",
    "    go.Scatter(x=f1[0, :], y=f1[1, :], name=class_names[0], mode=\"markers\"),\n",
    "    go.Scatter(x=f2[0, :], y=f2[1, :], name=class_names[1], mode=\"markers\"),\n",
    "]\n",
    "\n",
    "layout = go.Layout(xaxis=dict(title=feature1), yaxis=dict(title=feature2))\n",
    "\n",
    "fig = go.Figure(data=plots, layout=layout)\n",
    "plotly.offline.iplot(fig)\n",
    "\n",
    "fig.write_image(os.path.join(\"./pics\", \"features\", f\"fig_zcr_mean_vs_mfcc_1_mean.png\"))\n"
   ]
  },
  {
   "cell_type": "code",
   "execution_count": null,
   "metadata": {},
   "outputs": [],
   "source": [
    "for fi1, f_1 in enumerate(fn):\n",
    "    for fi2, f_2 in enumerate(fn):\n",
    "        if fi1 > fi2:\n",
    "            if not os.path.exists(os.path.join(\"./pics\", \"features\", f\"fig_{f_1}_vs_{f_2}.png\")):\n",
    "                f1 = np.array([features[0][:, fi1], features[0][:, fi2]])\n",
    "                f2 = np.array([features[1][:, fi1], features[1][:, fi2]])\n",
    "                # plot 2D features\n",
    "                plots = [\n",
    "                    go.Scatter(x=f1[0, :], y=f1[1, :], name=class_names[0], mode=\"markers\"),\n",
    "                    go.Scatter(x=f2[0, :], y=f2[1, :], name=class_names[1], mode=\"markers\"),\n",
    "                ]\n",
    "                layout = go.Layout(xaxis=dict(title=f_1), yaxis=dict(title=f_2))\n",
    "                fig = go.Figure(data=plots, layout=layout)\n",
    "                # plotly.offline.iplot(fig)\n",
    "                fig.write_image(os.path.join(\"./pics\", \"features\", f\"fig_{f_1}_vs_{f_2}.png\"))\n"
   ]
  }
 ],
 "metadata": {
  "interpreter": {
   "hash": "04d8603fbf6e3bc350366efc43c9870b96cb8c949f6e9cbd669a921366caf460"
  },
  "kernelspec": {
   "display_name": "Python 3.8.10 64-bit ('.venv': venv)",
   "language": "python",
   "name": "python3"
  },
  "language_info": {
   "codemirror_mode": {
    "name": "ipython",
    "version": 3
   },
   "file_extension": ".py",
   "mimetype": "text/x-python",
   "name": "python",
   "nbconvert_exporter": "python",
   "pygments_lexer": "ipython3",
   "version": "3.8.10"
  },
  "orig_nbformat": 4
 },
 "nbformat": 4,
 "nbformat_minor": 2
}
